{
  "nbformat": 4,
  "nbformat_minor": 0,
  "metadata": {
    "colab": {
      "provenance": [],
      "gpuType": "T4"
    },
    "kernelspec": {
      "name": "python3",
      "display_name": "Python 3"
    },
    "language_info": {
      "name": "python"
    },
    "accelerator": "GPU"
  },
  "cells": [
    {
      "cell_type": "markdown",
      "source": [
        "\n",
        "# Loading GDrive options\n",
        "\n",
        "Here you need to modfy the code in order to mount your own google drive account an access to the `Common/NeuralNetwork` folder\n",
        "\n",
        "\n"
      ],
      "metadata": {
        "id": "oPjm2yvjapb2"
      }
    },
    {
      "cell_type": "code",
      "execution_count": 1,
      "metadata": {
        "colab": {
          "base_uri": "https://localhost:8080/"
        },
        "id": "22Y_53zraOPl",
        "outputId": "8dc3fedf-07d4-4fdb-d241-867485a51b8e"
      },
      "outputs": [
        {
          "output_type": "stream",
          "name": "stdout",
          "text": [
            "Mounted at /gdrive\n",
            "/gdrive/Othercomputers/Il mio PC/Dsktp_Gdrive/NeuralNet/Common/Neural_Network\n"
          ]
        }
      ],
      "source": [
        "from google.colab import drive\n",
        "drive.mount('/gdrive')\n",
        "%cd /gdrive/Othercomputers/Il mio PC/Dsktp_Gdrive/NeuralNet/Common/Neural_Network"
      ]
    },
    {
      "cell_type": "markdown",
      "source": [
        "# KERAS MODEL"
      ],
      "metadata": {
        "id": "BSeibxH_aSR1"
      }
    },
    {
      "cell_type": "code",
      "source": [
        "# Fix randomness, hide warnings and load modules and libraries\n",
        "seed = 42\n",
        "\n",
        "import os\n",
        "os.environ['TF_CPP_MIN_LOG_LEVEL'] = '3'\n",
        "os.environ['PYTHONHASHSEED'] = str(seed)\n",
        "os.environ['MPLCONFIGDIR'] = os.getcwd()+'/configs/'\n",
        "\n",
        "import warnings\n",
        "warnings.simplefilter(action='ignore', category=FutureWarning)\n",
        "warnings.simplefilter(action='ignore', category=Warning)\n",
        "\n",
        "import numpy as np\n",
        "np.random.seed(seed)\n",
        "\n",
        "import logging\n",
        "\n",
        "import random\n",
        "random.seed(seed)\n",
        "\n",
        "import tensorflow as tf\n",
        "from tensorflow import keras as tfk\n",
        "from tensorflow.keras import layers as tfkl\n",
        "tf.autograph.set_verbosity(0)\n",
        "tf.get_logger().setLevel(logging.ERROR)\n",
        "tf.compat.v1.logging.set_verbosity(tf.compat.v1.logging.ERROR)\n",
        "tf.random.set_seed(seed)\n",
        "tf.compat.v1.set_random_seed(seed)\n",
        "print(tf.__version__)\n",
        "\n",
        "import pandas as pd\n",
        "import seaborn as sns\n",
        "import matplotlib.pyplot as plt\n",
        "from sklearn.datasets import load_iris\n",
        "from sklearn.metrics import accuracy_score\n",
        "from sklearn.model_selection import train_test_split\n",
        "import time"
      ],
      "metadata": {
        "colab": {
          "base_uri": "https://localhost:8080/"
        },
        "id": "4RZLopZ1bOhz",
        "outputId": "1c6ab6f4-318e-4b1c-c273-ac74934cc35c"
      },
      "execution_count": 7,
      "outputs": [
        {
          "output_type": "stream",
          "name": "stdout",
          "text": [
            "2.15.0\n"
          ]
        }
      ]
    },
    {
      "cell_type": "markdown",
      "source": [
        "# Load data"
      ],
      "metadata": {
        "id": "i7drJKh-brIU"
      }
    },
    {
      "cell_type": "code",
      "source": [
        "# Load the Iris dataset into a variable 'data'\n",
        "data = load_iris()\n",
        "iris_dataset = pd.DataFrame(data.data, columns=data.feature_names)\n",
        "\n",
        "target = data.target\n",
        "unique, count = np.unique(target, return_counts=True)\n",
        "\n",
        "# Split the dataset into a combined training and validation set, and a separate test set\n",
        "X_train_val, X_test, y_train_val, y_test = train_test_split(\n",
        "    iris_dataset,\n",
        "    target,\n",
        "    test_size = 30,\n",
        "    random_state = seed,\n",
        "    stratify = target\n",
        ")\n",
        "\n",
        "# Further split the combined training and validation set into a training set and a validation set\n",
        "X_train, X_val, y_train, y_val = train_test_split(\n",
        "    X_train_val,\n",
        "    y_train_val,\n",
        "    test_size = 30,\n",
        "    random_state = seed,\n",
        "    stratify = y_train_val\n",
        ")\n",
        "\n",
        "max_df = X_train.max()\n",
        "min_df = X_train.min()\n",
        "\n",
        "# Normalise the dataset splits in the range [0,1]\n",
        "X_train = (X_train - min_df)/(max_df - min_df)\n",
        "X_val = (X_val - min_df)/(max_df - min_df)\n",
        "X_test = (X_test - min_df)/(max_df - min_df)\n",
        "\n",
        "# Transform labels via one-hot encoding\n",
        "y_train = tfk.utils.to_categorical(y_train, num_classes=len(unique))\n",
        "y_val = tfk.utils.to_categorical(y_val, num_classes=len(unique))\n",
        "y_test = tfk.utils.to_categorical(y_test, num_classes=len(unique))\n",
        "\n",
        "input_shape = X_train.shape[1:]\n",
        "output_shape = y_train.shape[1]\n",
        "\n",
        "#define parameters\n",
        "batch_size = 16\n",
        "epochs = 100"
      ],
      "metadata": {
        "id": "_Hp0mh2ybvBP"
      },
      "execution_count": 8,
      "outputs": []
    },
    {
      "cell_type": "markdown",
      "source": [
        "# Build the model"
      ],
      "metadata": {
        "id": "Dsj2JmjPdiNw"
      }
    },
    {
      "cell_type": "code",
      "source": [
        "def build_model(\n",
        "    input_shape,\n",
        "    output_shape,\n",
        "    seed=seed\n",
        "):\n",
        "\n",
        "    # Fix randomness\n",
        "    tf.random.set_seed(seed)\n",
        "\n",
        "    # Build the neural network layer by layer\n",
        "    input_layer = tfkl.Input(shape=input_shape, name='Input')\n",
        "\n",
        "    hidden_layer = tfkl.Dense(units=128, name='Hidden')(input_layer)\n",
        "    hidden_activation = tfkl.Activation('relu', name='HiddenActivation')(hidden_layer)\n",
        "\n",
        "    output_layer = tfkl.Dense(units=output_shape, name='Output')(hidden_activation)\n",
        "    output_activation = tfkl.Activation('softmax', name='Softmax')(output_layer)\n",
        "\n",
        "    # Connect input and output through the Model class\n",
        "    model = tfk.Model(inputs=input_layer, outputs=output_activation, name='Feedforward')\n",
        "\n",
        "    # Compile the model\n",
        "    loss = tfk.losses.CategoricalCrossentropy()\n",
        "    learning_rate = 0.01\n",
        "    optimizer = tfk.optimizers.SGD(learning_rate)\n",
        "    metrics = ['Accuracy']\n",
        "    model.compile(loss=loss, optimizer=optimizer, metrics=metrics)\n",
        "\n",
        "    # Return the model\n",
        "    return model\n",
        "\n",
        "    model = build_model(input_shape, output_shape)\n",
        "\n"
      ],
      "metadata": {
        "id": "Q-RWQNizdmQB"
      },
      "execution_count": 9,
      "outputs": []
    },
    {
      "cell_type": "markdown",
      "source": [
        "# Trein the model"
      ],
      "metadata": {
        "id": "2_n8Aos1d-iB"
      }
    },
    {
      "cell_type": "code",
      "source": [
        "model = build_model(input_shape, output_shape)\n",
        "model.summary()\n",
        "tfk.utils.plot_model(model, expand_nested=True, show_shapes=True)\n",
        "start_time = time.time()\n",
        "history = model.fit(\n",
        "    x = X_train,\n",
        "    y = y_train,\n",
        "    batch_size = batch_size,\n",
        "    epochs = epochs,\n",
        "    validation_data = (X_val, y_val)\n",
        ").history\n",
        "\n",
        "test_predictions = model.predict(X_test, verbose=0)\n",
        "test_predictions = np.argmax(test_predictions, axis=-1)\n",
        "\n",
        "test_gt = np.argmax(y_test, axis=-1)\n",
        "\n",
        "test_accuracy = accuracy_score(test_gt, test_predictions)\n",
        "print(f'\\n\\nAccuracy score over the test set: {round(test_accuracy, 4)}')\n",
        "end_time = time.time()\n",
        "elapsed_time = end_time - start_time\n",
        "\n",
        "print(\"\\n\\nTotal time spent:\", elapsed_time, \"s\")\n"
      ],
      "metadata": {
        "colab": {
          "base_uri": "https://localhost:8080/"
        },
        "id": "Ps5Mf5Wjd9lT",
        "outputId": "7c114700-e720-4fbe-a2f1-bd1e563d7902"
      },
      "execution_count": 10,
      "outputs": [
        {
          "output_type": "stream",
          "name": "stdout",
          "text": [
            "Model: \"Feedforward\"\n",
            "_________________________________________________________________\n",
            " Layer (type)                Output Shape              Param #   \n",
            "=================================================================\n",
            " Input (InputLayer)          [(None, 4)]               0         \n",
            "                                                                 \n",
            " Hidden (Dense)              (None, 128)               640       \n",
            "                                                                 \n",
            " HiddenActivation (Activati  (None, 128)               0         \n",
            " on)                                                             \n",
            "                                                                 \n",
            " Output (Dense)              (None, 3)                 387       \n",
            "                                                                 \n",
            " Softmax (Activation)        (None, 3)                 0         \n",
            "                                                                 \n",
            "=================================================================\n",
            "Total params: 1027 (4.01 KB)\n",
            "Trainable params: 1027 (4.01 KB)\n",
            "Non-trainable params: 0 (0.00 Byte)\n",
            "_________________________________________________________________\n",
            "Epoch 1/100\n",
            "6/6 [==============================] - 2s 46ms/step - loss: 1.1163 - Accuracy: 0.3333 - val_loss: 1.0951 - val_Accuracy: 0.3333\n",
            "Epoch 2/100\n",
            "6/6 [==============================] - 0s 9ms/step - loss: 1.1007 - Accuracy: 0.3333 - val_loss: 1.0792 - val_Accuracy: 0.3667\n",
            "Epoch 3/100\n",
            "6/6 [==============================] - 0s 9ms/step - loss: 1.0858 - Accuracy: 0.3444 - val_loss: 1.0647 - val_Accuracy: 0.4333\n",
            "Epoch 4/100\n",
            "6/6 [==============================] - 0s 14ms/step - loss: 1.0722 - Accuracy: 0.4222 - val_loss: 1.0519 - val_Accuracy: 0.5000\n",
            "Epoch 5/100\n",
            "6/6 [==============================] - 0s 12ms/step - loss: 1.0598 - Accuracy: 0.5667 - val_loss: 1.0397 - val_Accuracy: 0.5333\n",
            "Epoch 6/100\n",
            "6/6 [==============================] - 0s 11ms/step - loss: 1.0481 - Accuracy: 0.6111 - val_loss: 1.0285 - val_Accuracy: 0.6333\n",
            "Epoch 7/100\n",
            "6/6 [==============================] - 0s 12ms/step - loss: 1.0374 - Accuracy: 0.6556 - val_loss: 1.0174 - val_Accuracy: 0.6667\n",
            "Epoch 8/100\n",
            "6/6 [==============================] - 0s 8ms/step - loss: 1.0270 - Accuracy: 0.6667 - val_loss: 1.0071 - val_Accuracy: 0.6667\n",
            "Epoch 9/100\n",
            "6/6 [==============================] - 0s 8ms/step - loss: 1.0173 - Accuracy: 0.6667 - val_loss: 0.9973 - val_Accuracy: 0.6667\n",
            "Epoch 10/100\n",
            "6/6 [==============================] - 0s 12ms/step - loss: 1.0076 - Accuracy: 0.6667 - val_loss: 0.9881 - val_Accuracy: 0.6667\n",
            "Epoch 11/100\n",
            "6/6 [==============================] - 0s 12ms/step - loss: 0.9987 - Accuracy: 0.6667 - val_loss: 0.9790 - val_Accuracy: 0.6667\n",
            "Epoch 12/100\n",
            "6/6 [==============================] - 0s 9ms/step - loss: 0.9902 - Accuracy: 0.6667 - val_loss: 0.9704 - val_Accuracy: 0.6667\n",
            "Epoch 13/100\n",
            "6/6 [==============================] - 0s 9ms/step - loss: 0.9817 - Accuracy: 0.6667 - val_loss: 0.9621 - val_Accuracy: 0.6667\n",
            "Epoch 14/100\n",
            "6/6 [==============================] - 0s 9ms/step - loss: 0.9744 - Accuracy: 0.6667 - val_loss: 0.9540 - val_Accuracy: 0.6667\n",
            "Epoch 15/100\n",
            "6/6 [==============================] - 0s 12ms/step - loss: 0.9658 - Accuracy: 0.6667 - val_loss: 0.9461 - val_Accuracy: 0.6667\n",
            "Epoch 16/100\n",
            "6/6 [==============================] - 0s 15ms/step - loss: 0.9582 - Accuracy: 0.6667 - val_loss: 0.9385 - val_Accuracy: 0.6667\n",
            "Epoch 17/100\n",
            "6/6 [==============================] - 0s 15ms/step - loss: 0.9507 - Accuracy: 0.6667 - val_loss: 0.9311 - val_Accuracy: 0.6667\n",
            "Epoch 18/100\n",
            "6/6 [==============================] - 0s 15ms/step - loss: 0.9435 - Accuracy: 0.6667 - val_loss: 0.9239 - val_Accuracy: 0.6667\n",
            "Epoch 19/100\n",
            "6/6 [==============================] - 0s 16ms/step - loss: 0.9366 - Accuracy: 0.6667 - val_loss: 0.9169 - val_Accuracy: 0.6667\n",
            "Epoch 20/100\n",
            "6/6 [==============================] - 0s 12ms/step - loss: 0.9297 - Accuracy: 0.6667 - val_loss: 0.9098 - val_Accuracy: 0.6667\n",
            "Epoch 21/100\n",
            "6/6 [==============================] - 0s 15ms/step - loss: 0.9233 - Accuracy: 0.6667 - val_loss: 0.9030 - val_Accuracy: 0.6667\n",
            "Epoch 22/100\n",
            "6/6 [==============================] - 0s 15ms/step - loss: 0.9163 - Accuracy: 0.6667 - val_loss: 0.8964 - val_Accuracy: 0.6667\n",
            "Epoch 23/100\n",
            "6/6 [==============================] - 0s 14ms/step - loss: 0.9099 - Accuracy: 0.6667 - val_loss: 0.8898 - val_Accuracy: 0.6667\n",
            "Epoch 24/100\n",
            "6/6 [==============================] - 0s 14ms/step - loss: 0.9037 - Accuracy: 0.6667 - val_loss: 0.8833 - val_Accuracy: 0.6667\n",
            "Epoch 25/100\n",
            "6/6 [==============================] - 0s 13ms/step - loss: 0.8977 - Accuracy: 0.6667 - val_loss: 0.8770 - val_Accuracy: 0.6667\n",
            "Epoch 26/100\n",
            "6/6 [==============================] - 0s 14ms/step - loss: 0.8914 - Accuracy: 0.6667 - val_loss: 0.8708 - val_Accuracy: 0.6667\n",
            "Epoch 27/100\n",
            "6/6 [==============================] - 0s 14ms/step - loss: 0.8851 - Accuracy: 0.6667 - val_loss: 0.8648 - val_Accuracy: 0.6667\n",
            "Epoch 28/100\n",
            "6/6 [==============================] - 0s 11ms/step - loss: 0.8794 - Accuracy: 0.6667 - val_loss: 0.8589 - val_Accuracy: 0.6667\n",
            "Epoch 29/100\n",
            "6/6 [==============================] - 0s 14ms/step - loss: 0.8738 - Accuracy: 0.6667 - val_loss: 0.8530 - val_Accuracy: 0.6667\n",
            "Epoch 30/100\n",
            "6/6 [==============================] - 0s 16ms/step - loss: 0.8682 - Accuracy: 0.6667 - val_loss: 0.8471 - val_Accuracy: 0.6667\n",
            "Epoch 31/100\n",
            "6/6 [==============================] - 0s 16ms/step - loss: 0.8625 - Accuracy: 0.6667 - val_loss: 0.8414 - val_Accuracy: 0.6667\n",
            "Epoch 32/100\n",
            "6/6 [==============================] - 0s 15ms/step - loss: 0.8568 - Accuracy: 0.6667 - val_loss: 0.8357 - val_Accuracy: 0.6667\n",
            "Epoch 33/100\n",
            "6/6 [==============================] - 0s 15ms/step - loss: 0.8515 - Accuracy: 0.6667 - val_loss: 0.8301 - val_Accuracy: 0.6667\n",
            "Epoch 34/100\n",
            "6/6 [==============================] - 0s 12ms/step - loss: 0.8459 - Accuracy: 0.6667 - val_loss: 0.8246 - val_Accuracy: 0.6667\n",
            "Epoch 35/100\n",
            "6/6 [==============================] - 0s 16ms/step - loss: 0.8406 - Accuracy: 0.6667 - val_loss: 0.8191 - val_Accuracy: 0.6667\n",
            "Epoch 36/100\n",
            "6/6 [==============================] - 0s 15ms/step - loss: 0.8351 - Accuracy: 0.6667 - val_loss: 0.8137 - val_Accuracy: 0.6667\n",
            "Epoch 37/100\n",
            "6/6 [==============================] - 0s 14ms/step - loss: 0.8302 - Accuracy: 0.6667 - val_loss: 0.8084 - val_Accuracy: 0.6667\n",
            "Epoch 38/100\n",
            "6/6 [==============================] - 0s 14ms/step - loss: 0.8248 - Accuracy: 0.6667 - val_loss: 0.8030 - val_Accuracy: 0.6667\n",
            "Epoch 39/100\n",
            "6/6 [==============================] - 0s 11ms/step - loss: 0.8201 - Accuracy: 0.6667 - val_loss: 0.7978 - val_Accuracy: 0.6667\n",
            "Epoch 40/100\n",
            "6/6 [==============================] - 0s 15ms/step - loss: 0.8144 - Accuracy: 0.6667 - val_loss: 0.7925 - val_Accuracy: 0.6667\n",
            "Epoch 41/100\n",
            "6/6 [==============================] - 0s 15ms/step - loss: 0.8096 - Accuracy: 0.6667 - val_loss: 0.7875 - val_Accuracy: 0.6667\n",
            "Epoch 42/100\n",
            "6/6 [==============================] - 0s 12ms/step - loss: 0.8044 - Accuracy: 0.6667 - val_loss: 0.7824 - val_Accuracy: 0.6667\n",
            "Epoch 43/100\n",
            "6/6 [==============================] - 0s 16ms/step - loss: 0.7997 - Accuracy: 0.6667 - val_loss: 0.7774 - val_Accuracy: 0.6667\n",
            "Epoch 44/100\n",
            "6/6 [==============================] - 0s 18ms/step - loss: 0.7951 - Accuracy: 0.6667 - val_loss: 0.7723 - val_Accuracy: 0.6667\n",
            "Epoch 45/100\n",
            "6/6 [==============================] - 0s 15ms/step - loss: 0.7898 - Accuracy: 0.6667 - val_loss: 0.7673 - val_Accuracy: 0.6667\n",
            "Epoch 46/100\n",
            "6/6 [==============================] - 0s 14ms/step - loss: 0.7848 - Accuracy: 0.6667 - val_loss: 0.7624 - val_Accuracy: 0.6667\n",
            "Epoch 47/100\n",
            "6/6 [==============================] - 0s 12ms/step - loss: 0.7798 - Accuracy: 0.6667 - val_loss: 0.7574 - val_Accuracy: 0.6667\n",
            "Epoch 48/100\n",
            "6/6 [==============================] - 0s 14ms/step - loss: 0.7748 - Accuracy: 0.6667 - val_loss: 0.7525 - val_Accuracy: 0.6667\n",
            "Epoch 49/100\n",
            "6/6 [==============================] - 0s 15ms/step - loss: 0.7704 - Accuracy: 0.6667 - val_loss: 0.7477 - val_Accuracy: 0.6667\n",
            "Epoch 50/100\n",
            "6/6 [==============================] - 0s 16ms/step - loss: 0.7657 - Accuracy: 0.6667 - val_loss: 0.7429 - val_Accuracy: 0.6667\n",
            "Epoch 51/100\n",
            "6/6 [==============================] - 0s 12ms/step - loss: 0.7607 - Accuracy: 0.6667 - val_loss: 0.7381 - val_Accuracy: 0.6667\n",
            "Epoch 52/100\n",
            "6/6 [==============================] - 0s 14ms/step - loss: 0.7563 - Accuracy: 0.6667 - val_loss: 0.7335 - val_Accuracy: 0.6667\n",
            "Epoch 53/100\n",
            "6/6 [==============================] - 0s 14ms/step - loss: 0.7512 - Accuracy: 0.6667 - val_loss: 0.7289 - val_Accuracy: 0.6667\n",
            "Epoch 54/100\n",
            "6/6 [==============================] - 0s 15ms/step - loss: 0.7467 - Accuracy: 0.6667 - val_loss: 0.7244 - val_Accuracy: 0.6667\n",
            "Epoch 55/100\n",
            "6/6 [==============================] - 0s 16ms/step - loss: 0.7426 - Accuracy: 0.6667 - val_loss: 0.7199 - val_Accuracy: 0.6667\n",
            "Epoch 56/100\n",
            "6/6 [==============================] - 0s 15ms/step - loss: 0.7384 - Accuracy: 0.6667 - val_loss: 0.7155 - val_Accuracy: 0.6667\n",
            "Epoch 57/100\n",
            "6/6 [==============================] - 0s 15ms/step - loss: 0.7334 - Accuracy: 0.6667 - val_loss: 0.7112 - val_Accuracy: 0.6667\n",
            "Epoch 58/100\n",
            "6/6 [==============================] - 0s 15ms/step - loss: 0.7294 - Accuracy: 0.6667 - val_loss: 0.7069 - val_Accuracy: 0.6667\n",
            "Epoch 59/100\n",
            "6/6 [==============================] - 0s 11ms/step - loss: 0.7252 - Accuracy: 0.6667 - val_loss: 0.7026 - val_Accuracy: 0.6667\n",
            "Epoch 60/100\n",
            "6/6 [==============================] - 0s 14ms/step - loss: 0.7209 - Accuracy: 0.6667 - val_loss: 0.6985 - val_Accuracy: 0.6667\n",
            "Epoch 61/100\n",
            "6/6 [==============================] - 0s 15ms/step - loss: 0.7169 - Accuracy: 0.6667 - val_loss: 0.6943 - val_Accuracy: 0.6667\n",
            "Epoch 62/100\n",
            "6/6 [==============================] - 0s 15ms/step - loss: 0.7125 - Accuracy: 0.6667 - val_loss: 0.6902 - val_Accuracy: 0.6667\n",
            "Epoch 63/100\n",
            "6/6 [==============================] - 0s 11ms/step - loss: 0.7085 - Accuracy: 0.6667 - val_loss: 0.6862 - val_Accuracy: 0.6667\n",
            "Epoch 64/100\n",
            "6/6 [==============================] - 0s 14ms/step - loss: 0.7048 - Accuracy: 0.6667 - val_loss: 0.6822 - val_Accuracy: 0.6667\n",
            "Epoch 65/100\n",
            "6/6 [==============================] - 0s 14ms/step - loss: 0.7009 - Accuracy: 0.6667 - val_loss: 0.6783 - val_Accuracy: 0.6667\n",
            "Epoch 66/100\n",
            "6/6 [==============================] - 0s 17ms/step - loss: 0.6968 - Accuracy: 0.6778 - val_loss: 0.6744 - val_Accuracy: 0.6667\n",
            "Epoch 67/100\n",
            "6/6 [==============================] - 0s 12ms/step - loss: 0.6930 - Accuracy: 0.6667 - val_loss: 0.6705 - val_Accuracy: 0.6667\n",
            "Epoch 68/100\n",
            "6/6 [==============================] - 0s 12ms/step - loss: 0.6891 - Accuracy: 0.6667 - val_loss: 0.6667 - val_Accuracy: 0.6667\n",
            "Epoch 69/100\n",
            "6/6 [==============================] - 0s 14ms/step - loss: 0.6852 - Accuracy: 0.6778 - val_loss: 0.6630 - val_Accuracy: 0.6667\n",
            "Epoch 70/100\n",
            "6/6 [==============================] - 0s 13ms/step - loss: 0.6815 - Accuracy: 0.6778 - val_loss: 0.6593 - val_Accuracy: 0.6667\n",
            "Epoch 71/100\n",
            "6/6 [==============================] - 0s 14ms/step - loss: 0.6779 - Accuracy: 0.6778 - val_loss: 0.6557 - val_Accuracy: 0.6667\n",
            "Epoch 72/100\n",
            "6/6 [==============================] - 0s 15ms/step - loss: 0.6745 - Accuracy: 0.6667 - val_loss: 0.6520 - val_Accuracy: 0.6667\n",
            "Epoch 73/100\n",
            "6/6 [==============================] - 0s 15ms/step - loss: 0.6703 - Accuracy: 0.6778 - val_loss: 0.6484 - val_Accuracy: 0.6667\n",
            "Epoch 74/100\n",
            "6/6 [==============================] - 0s 16ms/step - loss: 0.6667 - Accuracy: 0.6778 - val_loss: 0.6448 - val_Accuracy: 0.6667\n",
            "Epoch 75/100\n",
            "6/6 [==============================] - 0s 8ms/step - loss: 0.6636 - Accuracy: 0.6778 - val_loss: 0.6413 - val_Accuracy: 0.6667\n",
            "Epoch 76/100\n",
            "6/6 [==============================] - 0s 11ms/step - loss: 0.6594 - Accuracy: 0.6778 - val_loss: 0.6377 - val_Accuracy: 0.6667\n",
            "Epoch 77/100\n",
            "6/6 [==============================] - 0s 11ms/step - loss: 0.6562 - Accuracy: 0.6778 - val_loss: 0.6343 - val_Accuracy: 0.6667\n",
            "Epoch 78/100\n",
            "6/6 [==============================] - 0s 9ms/step - loss: 0.6525 - Accuracy: 0.6889 - val_loss: 0.6308 - val_Accuracy: 0.6667\n",
            "Epoch 79/100\n",
            "6/6 [==============================] - 0s 11ms/step - loss: 0.6491 - Accuracy: 0.6778 - val_loss: 0.6274 - val_Accuracy: 0.6667\n",
            "Epoch 80/100\n",
            "6/6 [==============================] - 0s 11ms/step - loss: 0.6458 - Accuracy: 0.6778 - val_loss: 0.6241 - val_Accuracy: 0.6667\n",
            "Epoch 81/100\n",
            "6/6 [==============================] - 0s 11ms/step - loss: 0.6422 - Accuracy: 0.7000 - val_loss: 0.6208 - val_Accuracy: 0.6667\n",
            "Epoch 82/100\n",
            "6/6 [==============================] - 0s 8ms/step - loss: 0.6393 - Accuracy: 0.6889 - val_loss: 0.6175 - val_Accuracy: 0.6667\n",
            "Epoch 83/100\n",
            "6/6 [==============================] - 0s 11ms/step - loss: 0.6356 - Accuracy: 0.7000 - val_loss: 0.6143 - val_Accuracy: 0.6667\n",
            "Epoch 84/100\n",
            "6/6 [==============================] - 0s 13ms/step - loss: 0.6325 - Accuracy: 0.7000 - val_loss: 0.6112 - val_Accuracy: 0.6667\n",
            "Epoch 85/100\n",
            "6/6 [==============================] - 0s 8ms/step - loss: 0.6295 - Accuracy: 0.7000 - val_loss: 0.6081 - val_Accuracy: 0.6667\n",
            "Epoch 86/100\n",
            "6/6 [==============================] - 0s 8ms/step - loss: 0.6266 - Accuracy: 0.7000 - val_loss: 0.6050 - val_Accuracy: 0.7000\n",
            "Epoch 87/100\n",
            "6/6 [==============================] - 0s 9ms/step - loss: 0.6231 - Accuracy: 0.7000 - val_loss: 0.6020 - val_Accuracy: 0.7000\n",
            "Epoch 88/100\n",
            "6/6 [==============================] - 0s 8ms/step - loss: 0.6202 - Accuracy: 0.7000 - val_loss: 0.5990 - val_Accuracy: 0.7000\n",
            "Epoch 89/100\n",
            "6/6 [==============================] - 0s 12ms/step - loss: 0.6171 - Accuracy: 0.7000 - val_loss: 0.5961 - val_Accuracy: 0.7000\n",
            "Epoch 90/100\n",
            "6/6 [==============================] - 0s 13ms/step - loss: 0.6144 - Accuracy: 0.6889 - val_loss: 0.5931 - val_Accuracy: 0.7000\n",
            "Epoch 91/100\n",
            "6/6 [==============================] - 0s 8ms/step - loss: 0.6110 - Accuracy: 0.7000 - val_loss: 0.5902 - val_Accuracy: 0.7000\n",
            "Epoch 92/100\n",
            "6/6 [==============================] - 0s 8ms/step - loss: 0.6079 - Accuracy: 0.7000 - val_loss: 0.5873 - val_Accuracy: 0.7000\n",
            "Epoch 93/100\n",
            "6/6 [==============================] - 0s 8ms/step - loss: 0.6052 - Accuracy: 0.7000 - val_loss: 0.5846 - val_Accuracy: 0.7000\n",
            "Epoch 94/100\n",
            "6/6 [==============================] - 0s 11ms/step - loss: 0.6023 - Accuracy: 0.7000 - val_loss: 0.5818 - val_Accuracy: 0.7000\n",
            "Epoch 95/100\n",
            "6/6 [==============================] - 0s 11ms/step - loss: 0.5999 - Accuracy: 0.7000 - val_loss: 0.5791 - val_Accuracy: 0.7333\n",
            "Epoch 96/100\n",
            "6/6 [==============================] - 0s 8ms/step - loss: 0.5967 - Accuracy: 0.7000 - val_loss: 0.5764 - val_Accuracy: 0.7333\n",
            "Epoch 97/100\n",
            "6/6 [==============================] - 0s 11ms/step - loss: 0.5940 - Accuracy: 0.7111 - val_loss: 0.5737 - val_Accuracy: 0.7333\n",
            "Epoch 98/100\n",
            "6/6 [==============================] - 0s 12ms/step - loss: 0.5914 - Accuracy: 0.7111 - val_loss: 0.5711 - val_Accuracy: 0.7333\n",
            "Epoch 99/100\n",
            "6/6 [==============================] - 0s 8ms/step - loss: 0.5889 - Accuracy: 0.7000 - val_loss: 0.5685 - val_Accuracy: 0.7333\n",
            "Epoch 100/100\n",
            "6/6 [==============================] - 0s 8ms/step - loss: 0.5859 - Accuracy: 0.7222 - val_loss: 0.5660 - val_Accuracy: 0.7333\n",
            "\n",
            "\n",
            "Accuracy score over the test set: 0.7667\n",
            "\n",
            "\n",
            "Total time spent: 10.851178407669067 s\n"
          ]
        }
      ]
    },
    {
      "cell_type": "code",
      "source": [
        "# Create and display plots for training and validation loss\n",
        "plt.figure(figsize=(15,2))\n",
        "plt.plot(history['loss'], label='Training loss', alpha=.8)\n",
        "#plt.plot(history['val_loss'], label='Validation loss', alpha=.8)\n",
        "plt.title('Loss')\n",
        "plt.legend()\n",
        "plt.grid(alpha=.3)\n",
        "\n",
        "# Create and display plots for training and validation accuracy\n",
        "plt.figure(figsize=(15,2))\n",
        "plt.plot(history['Accuracy'], label='Training accuracy', alpha=.8)\n",
        "plt.plot(history['val_Accuracy'], label='Validation accuracy', alpha=.8)\n",
        "plt.title('Accuracy')\n",
        "plt.legend()\n",
        "plt.grid(alpha=.3)\n",
        "plt.show()"
      ],
      "metadata": {
        "colab": {
          "base_uri": "https://localhost:8080/",
          "height": 423
        },
        "id": "I8uygvR2ehd7",
        "outputId": "edc2c139-f547-44b7-e4e8-2ce06de48120"
      },
      "execution_count": 11,
      "outputs": [
        {
          "output_type": "display_data",
          "data": {
            "text/plain": [
              "<Figure size 1500x200 with 1 Axes>"
            ],
            "image/png": "[encoded data removed]"
          },
          "metadata": {}
        },
        {
          "output_type": "display_data",
          "data": {
            "text/plain": [
              "<Figure size 1500x200 with 1 Axes>"
            ],
            "image/png": "[encoded data removed]"
          },
          "metadata": {}
        }
      ]
    },
    {
      "cell_type": "markdown",
      "source": [
        "# AMSC NEURAL NETWORK MODEL"
      ],
      "metadata": {
        "id": "u6GKOdxweuAS"
      }
    },
    {
      "cell_type": "markdown",
      "source": [
        "### Compile the code"
      ],
      "metadata": {
        "id": "07fozTKxhXf9"
      }
    },
    {
      "cell_type": "code",
      "source": [
        "!g++ -O3 -std=c++17 -I ../include -march=native -ffast-math amsc_nnet.cpp ../src/irisLoader.cpp ../src/network_functions.cpp ../src/ActivationFunctions.cpp ../src/matrixProd_AVX.cpp -mavx2 -mfma -std=c++20 -o amsc_nnet"
      ],
      "metadata": {
        "id": "0mdBHyXje1F_"
      },
      "execution_count": 12,
      "outputs": []
    },
    {
      "cell_type": "markdown",
      "source": [
        "### Run the code"
      ],
      "metadata": {
        "id": "e1wbSSCahe6D"
      }
    },
    {
      "cell_type": "code",
      "source": [
        "!./amsc_nnet"
      ],
      "metadata": {
        "colab": {
          "base_uri": "https://localhost:8080/"
        },
        "id": "g9WQeEzahmaN",
        "outputId": "4dfdc8e0-8b39-4062-c531-a5c150db5154"
      },
      "execution_count": 13,
      "outputs": [
        {
          "output_type": "stream",
          "name": "stdout",
          "text": [
            "Building model...\n",
            "Model name: myModel\n",
            "Number of epochs: 100\n",
            "Batch size: 16\n",
            "Learning rate: 0.05\n",
            "Loss function: MSE\n",
            "Stop cryteria: early_stop\n",
            "\n",
            "Input layer: \n",
            "Number of input introduced in the network: 4\n",
            "\n",
            "\n",
            "Model name: myModel\n",
            "-------------------------------------------------------------\n",
            "Layers (type)                  Output Shape         Params #\n",
            "=============================================================\n",
            "\n",
            "Input (Input Layer)\u001b[38G4\u001b[55G0\n",
            "\n",
            "layer1 (Dense)\u001b[38G128\u001b[55G640\n",
            "\n",
            "ReLu (Hidden Layer)\u001b[38G128\u001b[55G0\n",
            "\n",
            "Output (Output layer)\u001b[38G3\u001b[55G387\n",
            "\n",
            "sigmoid (Activation Function)\u001b[38G3\u001b[55G0\n",
            "\n",
            "=============================================================\n",
            "\n",
            "Total params: 1027 (4 KB)\n",
            "_____________________________________________________________\n",
            "\n",
            "Model built!\n",
            "\n",
            "Train started !  (details and results available in Train_Output.txt file)\n",
            "\n",
            "Progress: \u001b[12G0%\u001b[12G0%\u001b[12G0%\u001b[12G0%\u001b[12G0%\u001b[12G1%\u001b[12G1%\u001b[12G1%\u001b[12G1%\u001b[12G1%\u001b[12G1%\u001b[12G2%\u001b[12G2%\u001b[12G2%\u001b[12G2%\u001b[12G2%\u001b[12G2%\u001b[12G3%\u001b[12G3%\u001b[12G3%\u001b[12G3%\u001b[12G3%\u001b[12G3%\u001b[12G4%\u001b[12G4%\u001b[12G4%\u001b[12G4%\u001b[12G4%\u001b[12G4%\u001b[12G5%\u001b[12G5%\u001b[12G5%\u001b[12G5%\u001b[12G5%\u001b[12G5%\u001b[12G6%\u001b[12G6%\u001b[12G6%\u001b[12G6%\u001b[12G6%\u001b[12G6%\u001b[12G7%\u001b[12G7%\u001b[12G7%\u001b[12G7%\u001b[12G7%\u001b[12G7%\u001b[12G8%\u001b[12G8%\u001b[12G8%\u001b[12G8%\u001b[12G8%\u001b[12G8%\u001b[12G9%\u001b[12G9%\u001b[12G9%\u001b[12G9%\u001b[12G9%\u001b[12G9%\u001b[12G10%\u001b[12G10%\u001b[12G10%\u001b[12G10%\u001b[12G10%\u001b[12G10%\u001b[12G11%\u001b[12G11%\u001b[12G11%\u001b[12G11%\u001b[12G11%\u001b[12G11%\u001b[12G12%\u001b[12G12%\u001b[12G12%\u001b[12G12%\u001b[12G12%\u001b[12G12%\u001b[12G13%\u001b[12G13%\u001b[12G13%\u001b[12G13%\u001b[12G13%\u001b[12G13%\u001b[12G14%\u001b[12G14%\u001b[12G14%\u001b[12G14%\u001b[12G14%\u001b[12G14%\u001b[12G15%\u001b[12G15%\u001b[12G15%\u001b[12G15%\u001b[12G15%\u001b[12G15%\u001b[12G16%\u001b[12G16%\u001b[12G16%\u001b[12G16%\u001b[12G16%\u001b[12G16%\u001b[12G17%\u001b[12G17%\u001b[12G17%\u001b[12G17%\u001b[12G17%\u001b[12G17%\u001b[12G18%\u001b[12G18%\u001b[12G18%\u001b[12G18%\u001b[12G18%\u001b[12G18%\u001b[12G19%\u001b[12G19%\u001b[12G19%\u001b[12G19%\u001b[12G19%\u001b[12G19%\u001b[12G20%\u001b[12G20%\u001b[12G20%\u001b[12G20%\u001b[12G20%\u001b[12G20%\u001b[12G21%\u001b[12G21%\u001b[12G21%\u001b[12G21%\u001b[12G21%\u001b[12G21%\u001b[12G22%\u001b[12G22%\u001b[12G22%\u001b[12G22%\u001b[12G22%\u001b[12G22%\u001b[12G23%\u001b[12G23%\u001b[12G23%\u001b[12G23%\u001b[12G23%\u001b[12G23%\u001b[12G24%\u001b[12G24%\u001b[12G24%\u001b[12G24%\u001b[12G24%\u001b[12G24%\u001b[12G25%\u001b[12G25%\u001b[12G25%\u001b[12G25%\u001b[12G25%\u001b[12G25%\u001b[12G26%\u001b[12G26%\u001b[12G26%\u001b[12G26%\u001b[12G26%\u001b[12G26%\u001b[12G27%\u001b[12G27%\u001b[12G27%\u001b[12G27%\u001b[12G27%\u001b[12G27%\u001b[12G28%\u001b[12G28%\u001b[12G28%\u001b[12G28%\u001b[12G28%\u001b[12G28%\u001b[12G29%\u001b[12G29%\u001b[12G29%\u001b[12G29%\u001b[12G29%\u001b[12G29%\u001b[12G30%\u001b[12G30%\u001b[12G30%\u001b[12G30%\u001b[12G30%\u001b[12G30%\u001b[12G31%\u001b[12G31%\u001b[12G31%\u001b[12G31%\u001b[12G31%\u001b[12G31%\u001b[12G32%\u001b[12G32%\u001b[12G32%\u001b[12G32%\u001b[12G32%\u001b[12G32%\u001b[12G33%\u001b[12G33%\u001b[12G33%\u001b[12G33%\u001b[12G33%\u001b[12G33%\u001b[12G34%\u001b[12G34%\u001b[12G34%\u001b[12G34%\u001b[12G34%\u001b[12G34%\u001b[12G35%\u001b[12G35%\u001b[12G35%\u001b[12G35%\u001b[12G35%\u001b[12G35%\u001b[12G36%\u001b[12G36%\u001b[12G36%\u001b[12G36%\u001b[12G36%\u001b[12G36%\u001b[12G37%\u001b[12G37%\u001b[12G37%\u001b[12G37%\u001b[12G37%\u001b[12G37%\u001b[12G38%\u001b[12G38%\u001b[12G38%\u001b[12G38%\u001b[12G38%\u001b[12G38%\u001b[12G39%\u001b[12G39%\u001b[12G39%\u001b[12G39%\u001b[12G39%\u001b[12G39%\u001b[12G40%\u001b[12G40%\u001b[12G40%\u001b[12G40%\u001b[12G40%\u001b[12G40%\u001b[12G41%\u001b[12G41%\u001b[12G41%\u001b[12G41%\u001b[12G41%\u001b[12G41%\u001b[12G42%\u001b[12G42%\u001b[12G42%\u001b[12G42%\u001b[12G42%\u001b[12G42%\u001b[12G43%\u001b[12G43%\u001b[12G43%\u001b[12G43%\u001b[12G43%\u001b[12G43%\u001b[12G44%\u001b[12G44%\u001b[12G44%\u001b[12G44%\u001b[12G44%\u001b[12G44%\u001b[12G45%\u001b[12G45%\u001b[12G45%\u001b[12G45%\u001b[12G45%\u001b[12G45%\u001b[12G46%\u001b[12G46%\u001b[12G46%\u001b[12G46%\u001b[12G46%\u001b[12G46%\u001b[12G47%\u001b[12G47%\u001b[12G47%\u001b[12G47%\u001b[12G47%\u001b[12G47%\u001b[12G48%\u001b[12G48%\u001b[12G48%\u001b[12G48%\u001b[12G48%\u001b[12G48%\u001b[12G49%\u001b[12G49%\u001b[12G49%\u001b[12G49%\u001b[12G49%\u001b[12G49%\u001b[12G50%\u001b[12G50%\u001b[12G50%\u001b[12G50%\u001b[12G50%\u001b[12G50%\u001b[12G51%\u001b[12G51%\u001b[12G51%\u001b[12G51%\u001b[12G51%\u001b[12G51%\u001b[12G52%\u001b[12G52%\u001b[12G52%\u001b[12G52%\u001b[12G52%\u001b[12G52%\u001b[12G53%\u001b[12G53%\u001b[12G53%\u001b[12G53%\u001b[12G53%\u001b[12G53%\u001b[12G54%\u001b[12G54%\u001b[12G54%\u001b[12G54%\u001b[12G54%\u001b[12G54%\u001b[12G55%\u001b[12G55%\u001b[12G55%\u001b[12G55%\u001b[12G55%\u001b[12G55%\u001b[12G56%\u001b[12G56%\u001b[12G56%\u001b[12G56%\u001b[12G56%\u001b[12G56%\u001b[12G57%\u001b[12G57%\u001b[12G57%\u001b[12G57%\u001b[12G57%\u001b[12G57%\u001b[12G58%\u001b[12G58%\u001b[12G58%\u001b[12G58%\u001b[12G58%\u001b[12G58%\u001b[12G59%\u001b[12G59%\u001b[12G59%\u001b[12G59%\u001b[12G59%\u001b[12G59%\u001b[12G60%\u001b[12G60%\u001b[12G60%\u001b[12G60%\u001b[12G60%\u001b[12G60%\u001b[12G61%\u001b[12G61%\u001b[12G61%\u001b[12G61%\u001b[12G61%\u001b[12G61%\u001b[12G62%\u001b[12G62%\u001b[12G62%\u001b[12G62%\u001b[12G62%\u001b[12G62%\u001b[12G63%\u001b[12G63%\u001b[12G63%\u001b[12G63%\u001b[12G63%\u001b[12G63%\u001b[12G64%\u001b[12G64%\u001b[12G64%\u001b[12G64%\u001b[12G64%\u001b[12G64%\u001b[12G65%\u001b[12G65%\u001b[12G65%\u001b[12G65%\u001b[12G65%\u001b[12G65%\u001b[12G66%\u001b[12G66%\u001b[12G66%\u001b[12G66%\u001b[12G66%\u001b[12G66%\u001b[12G67%\u001b[12G67%\u001b[12G67%\u001b[12G67%\u001b[12G67%\u001b[12G67%\u001b[12G68%\u001b[12G68%\u001b[12G68%\u001b[12G68%\u001b[12G68%\u001b[12G68%\u001b[12G69%\u001b[12G69%\u001b[12G69%\u001b[12G69%\u001b[12G69%\u001b[12G69%\u001b[12G70%\u001b[12G70%\u001b[12G70%\u001b[12G70%\u001b[12G70%\u001b[12G70%\u001b[12G71%\u001b[12G71%\u001b[12G71%\u001b[12G71%\u001b[12G71%\u001b[12G71%\u001b[12G72%\u001b[12G72%\u001b[12G72%\u001b[12G72%\u001b[12G72%\u001b[12G72%\u001b[12G73%\u001b[12G73%\u001b[12G73%\u001b[12G73%\u001b[12G73%\u001b[12G73%\u001b[12G74%\u001b[12G74%\u001b[12G74%\u001b[12G74%\u001b[12G74%\u001b[12G74%\u001b[12G75%\u001b[12G75%\u001b[12G75%\u001b[12G75%\u001b[12G75%\u001b[12G75%\u001b[12G76%\u001b[12G76%\u001b[12G76%\u001b[12G76%\u001b[12G76%\u001b[12G76%\u001b[12G77%\u001b[12G77%\u001b[12G77%\u001b[12G77%\u001b[12G77%\u001b[12G77%\u001b[12G78%\u001b[12G78%\u001b[12G78%\u001b[12G78%\u001b[12G78%\u001b[12G78%\u001b[12G79%\u001b[12G79%\u001b[12G79%\u001b[12G79%\u001b[12G79%\u001b[12G79%\u001b[12G80%\u001b[12G80%\u001b[12G80%\u001b[12G80%\u001b[12G80%\u001b[12G80%\u001b[12G81%\u001b[12G81%\u001b[12G81%\u001b[12G81%\u001b[12G81%\u001b[12G81%\u001b[12G82%\u001b[12G82%\u001b[12G82%\u001b[12G82%\u001b[12G82%\u001b[12G82%\u001b[12G83%\u001b[12G83%\u001b[12G83%\u001b[12G83%\u001b[12G83%\u001b[12G83%\u001b[12G84%\u001b[12G84%\u001b[12G84%\u001b[12G84%\u001b[12G84%\u001b[12G84%\u001b[12G85%\u001b[12G85%\u001b[12G85%\u001b[12G85%\u001b[12G85%\u001b[12G85%\u001b[12G86%\u001b[12G86%\u001b[12G86%\u001b[12G86%\u001b[12G86%\u001b[12G86%\u001b[12G87%\u001b[12G87%\u001b[12G87%\u001b[12G87%\u001b[12G87%\u001b[12G87%\u001b[12G88%\u001b[12G88%\u001b[12G88%\u001b[12G88%\u001b[12G88%\u001b[12G88%\u001b[12G89%\u001b[12G89%\u001b[12G89%\u001b[12G89%\u001b[12G89%\u001b[12G89%\u001b[12G90%\u001b[12G90%\u001b[12G90%\u001b[12G90%\u001b[12G90%\u001b[12G90%\u001b[12G91%\u001b[12G91%\u001b[12G91%\u001b[12G91%\u001b[12G91%\u001b[12G91%\u001b[12G92%\u001b[12G92%\u001b[12G92%\u001b[12G92%\u001b[12G92%\u001b[12G92%\u001b[12G93%\u001b[12G93%\u001b[12G93%\u001b[12G93%\u001b[12G93%\u001b[12G93%\u001b[12G94%\u001b[12G94%\u001b[12G94%\u001b[12G94%\u001b[12G94%\u001b[12G94%\u001b[12G95%\u001b[12G95%\u001b[12G95%\u001b[12G95%\u001b[12G95%\u001b[12G95%\u001b[12G96%\u001b[12G96%\u001b[12G96%\u001b[12G96%\u001b[12G96%\u001b[12G96%\u001b[12G97%\u001b[12G97%\u001b[12G97%\u001b[12G97%\u001b[12G97%\u001b[12G97%\u001b[12G98%\u001b[12G98%\u001b[12G98%\u001b[12G98%\u001b[12G98%\u001b[12G98%\u001b[12G99%\u001b[12G99%\u001b[12G99%\u001b[12G99%\u001b[12G99%\u001b[12G99%\u001b[12G100%\n",
            "Final Accuracy on the TestSet: 1\n",
            "\n",
            "\n",
            "Train and evaluation on Test-Set successfully completed in 0.704 sec !\n",
            "\n"
          ]
        }
      ]
    },
    {
      "cell_type": "code",
      "source": [
        "acc = pd.read_csv(\"Accuracy.csv\", sep=\",\", skipinitialspace=True)\n",
        "\n",
        "plt.figure(figsize=(15,3))\n",
        "plt.plot(acc[\"epoch\"], acc[\"train_accuracy\"], label=\"Train Accuracy\", alpha=.8)\n",
        "plt.plot(acc[\"epoch\"], acc[\"validation_accuracy\"], label=\"Validation Accuracy\", alpha=.8)\n",
        "plt.plot(history['Accuracy'], label='K-Training accuracy', alpha=.8)\n",
        "plt.plot(history['val_Accuracy'], label='K-Validation accuracy', alpha=.8)\n",
        "\n",
        "plt.title(\"Train - Accuracy - Validation Accuracy\")\n",
        "plt.xlabel(\"Epoch\")\n",
        "plt.ylabel(\"Accuracy\")\n",
        "plt.legend()\n",
        "plt.grid(alpha=.3)\n",
        "\n",
        "lss = pd.read_csv(\"Loss.csv\", sep=\",\", skipinitialspace=True)\n",
        "\n",
        "plt.figure(figsize=(15,3))\n",
        "plt.plot(lss[\"epoch\"], lss[\"loss\"], label=\"loss\", alpha=.8)\n",
        "plt.plot(history['loss'], label='K-loss', alpha=.8)\n",
        "\n",
        "\n",
        "plt.title(\"Loss\")\n",
        "plt.xlabel(\"Epoch\")\n",
        "plt.ylabel(\"train - Loss\")\n",
        "plt.legend()\n",
        "plt.grid(alpha=.3)\n",
        "\n",
        "# Mostra il grafico\n",
        "plt.show()"
      ],
      "metadata": {
        "colab": {
          "base_uri": "https://localhost:8080/",
          "height": 764
        },
        "id": "OL_nhEHomYUf",
        "outputId": "22dda58b-87c7-48a6-b80e-45f7578e35bb"
      },
      "execution_count": 19,
      "outputs": [
        {
          "output_type": "error",
          "ename": "KeyError",
          "evalue": "ignored",
          "traceback": [
            "\u001b[0;31m---------------------------------------------------------------------------\u001b[0m",
            "\u001b[0;31mKeyError\u001b[0m                                  Traceback (most recent call last)",
            "\u001b[0;32m/usr/local/lib/python3.10/dist-packages/pandas/core/indexes/base.py\u001b[0m in \u001b[0;36mget_loc\u001b[0;34m(self, key, method, tolerance)\u001b[0m\n\u001b[1;32m   3801\u001b[0m             \u001b[0;32mtry\u001b[0m\u001b[0;34m:\u001b[0m\u001b[0;34m\u001b[0m\u001b[0;34m\u001b[0m\u001b[0m\n\u001b[0;32m-> 3802\u001b[0;31m                 \u001b[0;32mreturn\u001b[0m \u001b[0mself\u001b[0m\u001b[0;34m.\u001b[0m\u001b[0m_engine\u001b[0m\u001b[0;34m.\u001b[0m\u001b[0mget_loc\u001b[0m\u001b[0;34m(\u001b[0m\u001b[0mcasted_key\u001b[0m\u001b[0;34m)\u001b[0m\u001b[0;34m\u001b[0m\u001b[0;34m\u001b[0m\u001b[0m\n\u001b[0m\u001b[1;32m   3803\u001b[0m             \u001b[0;32mexcept\u001b[0m \u001b[0mKeyError\u001b[0m \u001b[0;32mas\u001b[0m \u001b[0merr\u001b[0m\u001b[0;34m:\u001b[0m\u001b[0;34m\u001b[0m\u001b[0;34m\u001b[0m\u001b[0m\n",
            "\u001b[0;32m/usr/local/lib/python3.10/dist-packages/pandas/_libs/index.pyx\u001b[0m in \u001b[0;36mpandas._libs.index.IndexEngine.get_loc\u001b[0;34m()\u001b[0m\n",
            "\u001b[0;32m/usr/local/lib/python3.10/dist-packages/pandas/_libs/index.pyx\u001b[0m in \u001b[0;36mpandas._libs.index.IndexEngine.get_loc\u001b[0;34m()\u001b[0m\n",
            "\u001b[0;32mpandas/_libs/hashtable_class_helper.pxi\u001b[0m in \u001b[0;36mpandas._libs.hashtable.PyObjectHashTable.get_item\u001b[0;34m()\u001b[0m\n",
            "\u001b[0;32mpandas/_libs/hashtable_class_helper.pxi\u001b[0m in \u001b[0;36mpandas._libs.hashtable.PyObjectHashTable.get_item\u001b[0;34m()\u001b[0m\n",
            "\u001b[0;31mKeyError\u001b[0m: 'validation_accuracy'",
            "\nThe above exception was the direct cause of the following exception:\n",
            "\u001b[0;31mKeyError\u001b[0m                                  Traceback (most recent call last)",
            "\u001b[0;32m<ipython-input-19-aed3ec8a7afb>\u001b[0m in \u001b[0;36m<cell line: 5>\u001b[0;34m()\u001b[0m\n\u001b[1;32m      3\u001b[0m \u001b[0mplt\u001b[0m\u001b[0;34m.\u001b[0m\u001b[0mfigure\u001b[0m\u001b[0;34m(\u001b[0m\u001b[0mfigsize\u001b[0m\u001b[0;34m=\u001b[0m\u001b[0;34m(\u001b[0m\u001b[0;36m15\u001b[0m\u001b[0;34m,\u001b[0m\u001b[0;36m3\u001b[0m\u001b[0;34m)\u001b[0m\u001b[0;34m)\u001b[0m\u001b[0;34m\u001b[0m\u001b[0;34m\u001b[0m\u001b[0m\n\u001b[1;32m      4\u001b[0m \u001b[0mplt\u001b[0m\u001b[0;34m.\u001b[0m\u001b[0mplot\u001b[0m\u001b[0;34m(\u001b[0m\u001b[0macc\u001b[0m\u001b[0;34m[\u001b[0m\u001b[0;34m\"epoch\"\u001b[0m\u001b[0;34m]\u001b[0m\u001b[0;34m,\u001b[0m \u001b[0macc\u001b[0m\u001b[0;34m[\u001b[0m\u001b[0;34m\"train_accuracy\"\u001b[0m\u001b[0;34m]\u001b[0m\u001b[0;34m,\u001b[0m \u001b[0mlabel\u001b[0m\u001b[0;34m=\u001b[0m\u001b[0;34m\"Train Accuracy\"\u001b[0m\u001b[0;34m,\u001b[0m \u001b[0malpha\u001b[0m\u001b[0;34m=\u001b[0m\u001b[0;36m.8\u001b[0m\u001b[0;34m)\u001b[0m\u001b[0;34m\u001b[0m\u001b[0;34m\u001b[0m\u001b[0m\n\u001b[0;32m----> 5\u001b[0;31m \u001b[0mplt\u001b[0m\u001b[0;34m.\u001b[0m\u001b[0mplot\u001b[0m\u001b[0;34m(\u001b[0m\u001b[0macc\u001b[0m\u001b[0;34m[\u001b[0m\u001b[0;34m\"epoch\"\u001b[0m\u001b[0;34m]\u001b[0m\u001b[0;34m,\u001b[0m \u001b[0macc\u001b[0m\u001b[0;34m[\u001b[0m\u001b[0;34m\"validation_accuracy\"\u001b[0m\u001b[0;34m]\u001b[0m\u001b[0;34m,\u001b[0m \u001b[0mlabel\u001b[0m\u001b[0;34m=\u001b[0m\u001b[0;34m\"Validation Accuracy\"\u001b[0m\u001b[0;34m,\u001b[0m \u001b[0malpha\u001b[0m\u001b[0;34m=\u001b[0m\u001b[0;36m.8\u001b[0m\u001b[0;34m)\u001b[0m\u001b[0;34m\u001b[0m\u001b[0;34m\u001b[0m\u001b[0m\n\u001b[0m\u001b[1;32m      6\u001b[0m \u001b[0mplt\u001b[0m\u001b[0;34m.\u001b[0m\u001b[0mplot\u001b[0m\u001b[0;34m(\u001b[0m\u001b[0mhistory\u001b[0m\u001b[0;34m[\u001b[0m\u001b[0;34m'Accuracy'\u001b[0m\u001b[0;34m]\u001b[0m\u001b[0;34m,\u001b[0m \u001b[0mlabel\u001b[0m\u001b[0;34m=\u001b[0m\u001b[0;34m'K-Training accuracy'\u001b[0m\u001b[0;34m,\u001b[0m \u001b[0malpha\u001b[0m\u001b[0;34m=\u001b[0m\u001b[0;36m.8\u001b[0m\u001b[0;34m)\u001b[0m\u001b[0;34m\u001b[0m\u001b[0;34m\u001b[0m\u001b[0m\n\u001b[1;32m      7\u001b[0m \u001b[0mplt\u001b[0m\u001b[0;34m.\u001b[0m\u001b[0mplot\u001b[0m\u001b[0;34m(\u001b[0m\u001b[0mhistory\u001b[0m\u001b[0;34m[\u001b[0m\u001b[0;34m'val_Accuracy'\u001b[0m\u001b[0;34m]\u001b[0m\u001b[0;34m,\u001b[0m \u001b[0mlabel\u001b[0m\u001b[0;34m=\u001b[0m\u001b[0;34m'K-Validation accuracy'\u001b[0m\u001b[0;34m,\u001b[0m \u001b[0malpha\u001b[0m\u001b[0;34m=\u001b[0m\u001b[0;36m.8\u001b[0m\u001b[0;34m)\u001b[0m\u001b[0;34m\u001b[0m\u001b[0;34m\u001b[0m\u001b[0m\n",
            "\u001b[0;32m/usr/local/lib/python3.10/dist-packages/pandas/core/frame.py\u001b[0m in \u001b[0;36m__getitem__\u001b[0;34m(self, key)\u001b[0m\n\u001b[1;32m   3805\u001b[0m             \u001b[0;32mif\u001b[0m \u001b[0mself\u001b[0m\u001b[0;34m.\u001b[0m\u001b[0mcolumns\u001b[0m\u001b[0;34m.\u001b[0m\u001b[0mnlevels\u001b[0m \u001b[0;34m>\u001b[0m \u001b[0;36m1\u001b[0m\u001b[0;34m:\u001b[0m\u001b[0;34m\u001b[0m\u001b[0;34m\u001b[0m\u001b[0m\n\u001b[1;32m   3806\u001b[0m                 \u001b[0;32mreturn\u001b[0m \u001b[0mself\u001b[0m\u001b[0;34m.\u001b[0m\u001b[0m_getitem_multilevel\u001b[0m\u001b[0;34m(\u001b[0m\u001b[0mkey\u001b[0m\u001b[0;34m)\u001b[0m\u001b[0;34m\u001b[0m\u001b[0;34m\u001b[0m\u001b[0m\n\u001b[0;32m-> 3807\u001b[0;31m             \u001b[0mindexer\u001b[0m \u001b[0;34m=\u001b[0m \u001b[0mself\u001b[0m\u001b[0;34m.\u001b[0m\u001b[0mcolumns\u001b[0m\u001b[0;34m.\u001b[0m\u001b[0mget_loc\u001b[0m\u001b[0;34m(\u001b[0m\u001b[0mkey\u001b[0m\u001b[0;34m)\u001b[0m\u001b[0;34m\u001b[0m\u001b[0;34m\u001b[0m\u001b[0m\n\u001b[0m\u001b[1;32m   3808\u001b[0m             \u001b[0;32mif\u001b[0m \u001b[0mis_integer\u001b[0m\u001b[0;34m(\u001b[0m\u001b[0mindexer\u001b[0m\u001b[0;34m)\u001b[0m\u001b[0;34m:\u001b[0m\u001b[0;34m\u001b[0m\u001b[0;34m\u001b[0m\u001b[0m\n\u001b[1;32m   3809\u001b[0m                 \u001b[0mindexer\u001b[0m \u001b[0;34m=\u001b[0m \u001b[0;34m[\u001b[0m\u001b[0mindexer\u001b[0m\u001b[0;34m]\u001b[0m\u001b[0;34m\u001b[0m\u001b[0;34m\u001b[0m\u001b[0m\n",
            "\u001b[0;32m/usr/local/lib/python3.10/dist-packages/pandas/core/indexes/base.py\u001b[0m in \u001b[0;36mget_loc\u001b[0;34m(self, key, method, tolerance)\u001b[0m\n\u001b[1;32m   3802\u001b[0m                 \u001b[0;32mreturn\u001b[0m \u001b[0mself\u001b[0m\u001b[0;34m.\u001b[0m\u001b[0m_engine\u001b[0m\u001b[0;34m.\u001b[0m\u001b[0mget_loc\u001b[0m\u001b[0;34m(\u001b[0m\u001b[0mcasted_key\u001b[0m\u001b[0;34m)\u001b[0m\u001b[0;34m\u001b[0m\u001b[0;34m\u001b[0m\u001b[0m\n\u001b[1;32m   3803\u001b[0m             \u001b[0;32mexcept\u001b[0m \u001b[0mKeyError\u001b[0m \u001b[0;32mas\u001b[0m \u001b[0merr\u001b[0m\u001b[0;34m:\u001b[0m\u001b[0;34m\u001b[0m\u001b[0;34m\u001b[0m\u001b[0m\n\u001b[0;32m-> 3804\u001b[0;31m                 \u001b[0;32mraise\u001b[0m \u001b[0mKeyError\u001b[0m\u001b[0;34m(\u001b[0m\u001b[0mkey\u001b[0m\u001b[0;34m)\u001b[0m \u001b[0;32mfrom\u001b[0m \u001b[0merr\u001b[0m\u001b[0;34m\u001b[0m\u001b[0;34m\u001b[0m\u001b[0m\n\u001b[0m\u001b[1;32m   3805\u001b[0m             \u001b[0;32mexcept\u001b[0m \u001b[0mTypeError\u001b[0m\u001b[0;34m:\u001b[0m\u001b[0;34m\u001b[0m\u001b[0;34m\u001b[0m\u001b[0m\n\u001b[1;32m   3806\u001b[0m                 \u001b[0;31m# If we have a listlike key, _check_indexing_error will raise\u001b[0m\u001b[0;34m\u001b[0m\u001b[0;34m\u001b[0m\u001b[0m\n",
            "\u001b[0;31mKeyError\u001b[0m: 'validation_accuracy'"
          ]
        },
        {
          "output_type": "display_data",
          "data": {
            "text/plain": [
              "<Figure size 1500x300 with 1 Axes>"
            ],
            "image/png": "[encoded data removed]"
          },
          "metadata": {}
        }
      ]
    },
    {
      "cell_type": "markdown",
      "source": [
        "## Cuda Version"
      ],
      "metadata": {
        "id": "PSHiXw8X4PEJ"
      }
    },
    {
      "cell_type": "code",
      "source": [
        "!nvcc -arch=sm_75 -c ../src/cudaMMul.cu -o cuda_functions.o"
      ],
      "metadata": {
        "colab": {
          "base_uri": "https://localhost:8080/"
        },
        "id": "75Xe3D5i31hm",
        "outputId": "ca3510aa-8f54-4d95-d931-8668fad01512"
      },
      "execution_count": 15,
      "outputs": [
        {
          "output_type": "stream",
          "name": "stdout",
          "text": [
            "\u001b[01m\u001b[K../src/cudaMMul.cu:\u001b[m\u001b[K In function ‘\u001b[01m\u001b[Kvoid cudaFunctionF(float*, float*, float*, int, int, int, int)\u001b[m\u001b[K’:\n",
            "\u001b[01m\u001b[K../src/cudaMMul.cu:147:22:\u001b[m\u001b[K \u001b[01;35m\u001b[Kwarning: \u001b[m\u001b[K‘\u001b[01m\u001b[KcudaError_t cudaThreadSynchronize()\u001b[m\u001b[K’ is deprecated [\u001b[01;35m\u001b[K\u001b]8;;https://gcc.gnu.org/onlinedocs/gcc/Warning-Options.html#index-Wdeprecated-declarations\u0007-Wdeprecated-declarations\u001b]8;;\u0007\u001b[m\u001b[K]\n",
            "  147 | \u001b[01;35m\u001b[K    cudaThreadSynchroni\u001b[m\u001b[Kze();\n",
            "      |     \u001b[01;35m\u001b[K~~~~~~~~~~~~~~~~~^~\u001b[m\u001b[K\n",
            "\u001b[01m\u001b[K/usr/local/cuda/bin/../targets/x86_64-linux/include/cuda_runtime_api.h:1069:46:\u001b[m\u001b[K \u001b[01;36m\u001b[Knote: \u001b[m\u001b[Kdeclared here\n",
            " 1069 | extern __CUDA_DEPRECATED __host__ cudaError_t\u001b[01;36m\u001b[K CUDARTAPI cudaThread\u001b[m\u001b[KSynchronize(void);\n",
            "      |                                              \u001b[01;36m\u001b[K^~~~~~~~~~~~~~~~~~~~~\u001b[m\u001b[K\n",
            "\u001b[01m\u001b[K../src/cudaMMul.cu:\u001b[m\u001b[K In function ‘\u001b[01m\u001b[Kvoid cudaFunctionD(double*, double*, double*, int, int, int, int)\u001b[m\u001b[K’:\n",
            "\u001b[01m\u001b[K../src/cudaMMul.cu:179:22:\u001b[m\u001b[K \u001b[01;35m\u001b[Kwarning: \u001b[m\u001b[K‘\u001b[01m\u001b[KcudaError_t cudaThreadSynchronize()\u001b[m\u001b[K’ is deprecated [\u001b[01;35m\u001b[K\u001b]8;;https://gcc.gnu.org/onlinedocs/gcc/Warning-Options.html#index-Wdeprecated-declarations\u0007-Wdeprecated-declarations\u001b]8;;\u0007\u001b[m\u001b[K]\n",
            "  179 | \u001b[01;35m\u001b[K    cudaThreadSynchroni\u001b[m\u001b[Kze();\n",
            "      |     \u001b[01;35m\u001b[K~~~~~~~~~~~~~~~~~^~\u001b[m\u001b[K\n",
            "\u001b[01m\u001b[K/usr/local/cuda/bin/../targets/x86_64-linux/include/cuda_runtime_api.h:1069:46:\u001b[m\u001b[K \u001b[01;36m\u001b[Knote: \u001b[m\u001b[Kdeclared here\n",
            " 1069 | extern __CUDA_DEPRECATED __host__ cudaError_t\u001b[01;36m\u001b[K CUDARTAPI cudaThread\u001b[m\u001b[KSynchronize(void);\n",
            "      |                                              \u001b[01;36m\u001b[K^~~~~~~~~~~~~~~~~~~~~\u001b[m\u001b[K\n"
          ]
        }
      ]
    },
    {
      "cell_type": "code",
      "source": [
        "!g++ -c -O3 -std=c++17 -I ../include  -march=native -ffast-math amsc_nnet.cpp ../src/irisLoader.cpp ../src/cuda_network_functions.cpp ../src/ActivationFunctions.cpp  ../src/matrixProd_AVX.cpp -mavx2 -mfma -std=c++20"
      ],
      "metadata": {
        "id": "JulOe577SDEn"
      },
      "execution_count": 16,
      "outputs": []
    },
    {
      "cell_type": "code",
      "source": [
        "!nvcc ActivationFunctions.o cuda_functions.o matrixProd_AVX.o cuda_network_functions.o amsc_nnet.o irisLoader.o -o cuda_nnet"
      ],
      "metadata": {
        "id": "xLHITQUGTIEC"
      },
      "execution_count": 17,
      "outputs": []
    },
    {
      "cell_type": "code",
      "source": [
        "!./cuda_nnet"
      ],
      "metadata": {
        "colab": {
          "base_uri": "https://localhost:8080/"
        },
        "id": "voOQwJj2eUHS",
        "outputId": "03cf40af-cbd6-498d-ec55-900a677e69f1"
      },
      "execution_count": 18,
      "outputs": [
        {
          "output_type": "stream",
          "name": "stdout",
          "text": [
            "Building model...\n",
            "Model name: myModel\n",
            "Number of epochs: 100\n",
            "Batch size: 16\n",
            "Learning rate: 0.05\n",
            "Loss function: MSE\n",
            "Stop cryteria: early_stop\n",
            "\n",
            "Input layer: \n",
            "Number of input introduced in the network: 4\n",
            "\n",
            "\n",
            "Model name: myModel\n",
            "-------------------------------------------------------------\n",
            "Layers (type)                  Output Shape         Params #\n",
            "=============================================================\n",
            "\n",
            "Input (Input Layer)\u001b[38G4\u001b[55G0\n",
            "\n",
            "layer1 (Dense)\u001b[38G128\u001b[55G640\n",
            "\n",
            "ReLu (Hidden Layer)\u001b[38G128\u001b[55G0\n",
            "\n",
            "Output (Output layer)\u001b[38G3\u001b[55G387\n",
            "\n",
            "sigmoid (Activation Function)\u001b[38G3\u001b[55G0\n",
            "\n",
            "=============================================================\n",
            "\n",
            "Total params: 1027 (4 KB)\n",
            "_____________________________________________________________\n",
            "\n",
            "Model built!\n",
            "\n",
            "Train started !  (details and results available in Train_Output.txt file)\n",
            "\n",
            "Progress: \u001b[12G0%\u001b[12G0%\u001b[12G0%\u001b[12G0%\u001b[12G0%\u001b[12G1%\u001b[12G1%\u001b[12G1%\u001b[12G1%\u001b[12G1%\u001b[12G1%\u001b[12G2%\u001b[12G2%\u001b[12G2%\u001b[12G2%\u001b[12G2%\u001b[12G2%\u001b[12G3%\u001b[12G3%\u001b[12G3%\u001b[12G3%\u001b[12G3%\u001b[12G3%\u001b[12G4%\u001b[12G4%\u001b[12G4%\u001b[12G4%\u001b[12G4%\u001b[12G4%\u001b[12G5%\u001b[12G5%\u001b[12G5%\u001b[12G5%\u001b[12G5%\u001b[12G5%\u001b[12G6%\u001b[12G6%\u001b[12G6%\u001b[12G6%\u001b[12G6%\u001b[12G6%\u001b[12G7%\u001b[12G7%\u001b[12G7%\u001b[12G7%\u001b[12G7%\u001b[12G7%\u001b[12G8%\u001b[12G8%\u001b[12G8%\u001b[12G8%\u001b[12G8%\u001b[12G8%\u001b[12G9%\u001b[12G9%\u001b[12G9%\u001b[12G9%\u001b[12G9%\u001b[12G9%\u001b[12G10%\u001b[12G10%\u001b[12G10%\u001b[12G10%\u001b[12G10%\u001b[12G10%\u001b[12G11%\u001b[12G11%\u001b[12G11%\u001b[12G11%\u001b[12G11%\u001b[12G11%\u001b[12G12%\u001b[12G12%\u001b[12G12%\u001b[12G12%\u001b[12G12%\u001b[12G12%\u001b[12G13%\u001b[12G13%\u001b[12G13%\u001b[12G13%\u001b[12G13%\u001b[12G13%\u001b[12G14%\u001b[12G14%\u001b[12G14%\u001b[12G14%\u001b[12G14%\u001b[12G14%\u001b[12G15%\u001b[12G15%\u001b[12G15%\u001b[12G15%\u001b[12G15%\u001b[12G15%\u001b[12G16%\u001b[12G16%\u001b[12G16%\u001b[12G16%\u001b[12G16%\u001b[12G16%\u001b[12G17%\u001b[12G17%\u001b[12G17%\u001b[12G17%\u001b[12G17%\u001b[12G17%\u001b[12G18%\u001b[12G18%\u001b[12G18%\u001b[12G18%\u001b[12G18%\u001b[12G18%\u001b[12G19%\u001b[12G19%\u001b[12G19%\u001b[12G19%\u001b[12G19%\u001b[12G19%\u001b[12G20%\u001b[12G20%\u001b[12G20%\u001b[12G20%\u001b[12G20%\u001b[12G20%\u001b[12G21%\u001b[12G21%\u001b[12G21%\u001b[12G21%\u001b[12G21%\u001b[12G21%\u001b[12G22%\u001b[12G22%\u001b[12G22%\u001b[12G22%\u001b[12G22%\u001b[12G22%\u001b[12G23%\u001b[12G23%\u001b[12G23%\u001b[12G23%\u001b[12G23%\u001b[12G23%\u001b[12G24%\u001b[12G24%\u001b[12G24%\u001b[12G24%\u001b[12G24%\u001b[12G24%\u001b[12G25%\u001b[12G25%\u001b[12G25%\u001b[12G25%\u001b[12G25%\u001b[12G25%\u001b[12G26%\u001b[12G26%\u001b[12G26%\u001b[12G26%\u001b[12G26%\u001b[12G26%\u001b[12G27%\u001b[12G27%\u001b[12G27%\u001b[12G27%\u001b[12G27%\u001b[12G27%\u001b[12G28%\u001b[12G28%\u001b[12G28%\u001b[12G28%\u001b[12G28%\u001b[12G28%\u001b[12G29%\u001b[12G29%\u001b[12G29%\u001b[12G29%\u001b[12G29%\u001b[12G29%\u001b[12G30%\u001b[12G30%\u001b[12G30%\u001b[12G30%\u001b[12G30%\u001b[12G30%\u001b[12G31%\u001b[12G31%\u001b[12G31%\u001b[12G31%\u001b[12G31%\u001b[12G31%\u001b[12G32%\u001b[12G32%\u001b[12G32%\u001b[12G32%\u001b[12G32%\u001b[12G32%\u001b[12G33%\u001b[12G33%\u001b[12G33%\u001b[12G33%\u001b[12G33%\u001b[12G33%\u001b[12G34%\u001b[12G34%\u001b[12G34%\u001b[12G34%\u001b[12G34%\u001b[12G34%\u001b[12G35%\u001b[12G35%\u001b[12G35%\u001b[12G35%\u001b[12G35%\u001b[12G35%\u001b[12G36%\u001b[12G36%\u001b[12G36%\u001b[12G36%\u001b[12G36%\u001b[12G36%\u001b[12G37%\u001b[12G37%\u001b[12G37%\u001b[12G37%\u001b[12G37%\u001b[12G37%\u001b[12G38%\u001b[12G38%\u001b[12G38%\u001b[12G38%\u001b[12G38%\u001b[12G38%\u001b[12G39%\u001b[12G39%\u001b[12G39%\u001b[12G39%\u001b[12G39%\u001b[12G39%\u001b[12G40%\u001b[12G40%\u001b[12G40%\u001b[12G40%\u001b[12G40%\u001b[12G40%\u001b[12G41%\u001b[12G41%\u001b[12G41%\u001b[12G41%\u001b[12G41%\u001b[12G41%\u001b[12G42%\u001b[12G42%\u001b[12G42%\u001b[12G42%\u001b[12G42%\u001b[12G42%\u001b[12G43%\u001b[12G43%\u001b[12G43%\u001b[12G43%\u001b[12G43%\u001b[12G43%\u001b[12G44%\u001b[12G44%\u001b[12G44%\u001b[12G44%\u001b[12G44%\u001b[12G44%\u001b[12G45%\u001b[12G45%\u001b[12G45%\u001b[12G45%\u001b[12G45%\u001b[12G45%\u001b[12G46%\u001b[12G46%\u001b[12G46%\u001b[12G46%\u001b[12G46%\u001b[12G46%\u001b[12G47%\u001b[12G47%\u001b[12G47%\u001b[12G47%\u001b[12G47%\u001b[12G47%\u001b[12G48%\u001b[12G48%\u001b[12G48%\u001b[12G48%\u001b[12G48%\u001b[12G48%\u001b[12G49%\u001b[12G49%\u001b[12G49%\u001b[12G49%\u001b[12G49%\u001b[12G49%\u001b[12G50%\u001b[12G50%\u001b[12G50%\u001b[12G50%\u001b[12G50%\u001b[12G50%\u001b[12G51%\u001b[12G51%\u001b[12G51%\u001b[12G51%\u001b[12G51%\u001b[12G51%\u001b[12G52%\u001b[12G52%\u001b[12G52%\u001b[12G52%\u001b[12G52%\u001b[12G52%\u001b[12G53%\u001b[12G53%\u001b[12G53%\u001b[12G53%\u001b[12G53%\u001b[12G53%\u001b[12G54%\u001b[12G54%\u001b[12G54%\u001b[12G54%\u001b[12G54%\u001b[12G54%\u001b[12G55%\u001b[12G55%\u001b[12G55%\u001b[12G55%\u001b[12G55%\u001b[12G55%\u001b[12G56%\u001b[12G56%\u001b[12G56%\u001b[12G56%\u001b[12G56%\u001b[12G56%\u001b[12G57%\u001b[12G57%\u001b[12G57%\u001b[12G57%\u001b[12G57%\u001b[12G57%\u001b[12G58%\u001b[12G58%\u001b[12G58%\u001b[12G58%\u001b[12G58%\u001b[12G58%\u001b[12G59%\u001b[12G59%\u001b[12G59%\u001b[12G59%\u001b[12G59%\u001b[12G59%\u001b[12G60%\u001b[12G60%\u001b[12G60%\u001b[12G60%\u001b[12G60%\u001b[12G60%\u001b[12G61%\u001b[12G61%\u001b[12G61%\u001b[12G61%\u001b[12G61%\u001b[12G61%\u001b[12G62%\u001b[12G62%\u001b[12G62%\u001b[12G62%\u001b[12G62%\u001b[12G62%\u001b[12G63%\u001b[12G63%\u001b[12G63%\u001b[12G63%\u001b[12G63%\u001b[12G63%\u001b[12G64%\u001b[12G64%\u001b[12G64%\u001b[12G64%\u001b[12G64%\u001b[12G64%\u001b[12G65%\u001b[12G65%\u001b[12G65%\u001b[12G65%\u001b[12G65%\u001b[12G65%\u001b[12G66%\u001b[12G66%\u001b[12G66%\u001b[12G66%\u001b[12G66%\u001b[12G66%\u001b[12G67%\u001b[12G67%\u001b[12G67%\u001b[12G67%\u001b[12G67%\u001b[12G67%\u001b[12G68%\u001b[12G68%\u001b[12G68%\u001b[12G68%\u001b[12G68%\u001b[12G68%\u001b[12G69%\u001b[12G69%\u001b[12G69%\u001b[12G69%\u001b[12G69%\u001b[12G69%\u001b[12G70%\u001b[12G70%\u001b[12G70%\u001b[12G70%\u001b[12G70%\u001b[12G70%\u001b[12G71%\u001b[12G71%\u001b[12G71%\u001b[12G71%\u001b[12G71%\u001b[12G71%\u001b[12G72%\u001b[12G72%\u001b[12G72%\u001b[12G72%\u001b[12G72%\u001b[12G72%\u001b[12G73%\u001b[12G73%\u001b[12G73%\u001b[12G73%\u001b[12G73%\u001b[12G73%\u001b[12G74%\u001b[12G74%\u001b[12G74%\u001b[12G74%\u001b[12G74%\u001b[12G74%\u001b[12G75%\u001b[12G75%\u001b[12G75%\u001b[12G75%\u001b[12G75%\u001b[12G75%\u001b[12G76%\u001b[12G76%\u001b[12G76%\u001b[12G76%\u001b[12G76%\u001b[12G76%\u001b[12G77%\u001b[12G77%\u001b[12G77%\u001b[12G77%\u001b[12G77%\u001b[12G77%\u001b[12G78%\u001b[12G78%\u001b[12G78%\u001b[12G78%\u001b[12G78%\u001b[12G78%\u001b[12G79%\u001b[12G79%\u001b[12G79%\u001b[12G79%\u001b[12G79%\u001b[12G79%\u001b[12G80%\u001b[12G80%\u001b[12G80%\u001b[12G80%\u001b[12G80%\u001b[12G80%\u001b[12G81%\u001b[12G81%\u001b[12G81%\u001b[12G81%\u001b[12G81%\u001b[12G81%\u001b[12G82%\u001b[12G82%\u001b[12G82%\u001b[12G82%\u001b[12G82%\u001b[12G82%\u001b[12G83%\u001b[12G83%\u001b[12G83%\u001b[12G83%\u001b[12G83%\u001b[12G83%\u001b[12G84%\u001b[12G84%\u001b[12G84%\u001b[12G84%\u001b[12G84%\u001b[12G84%\u001b[12G85%\u001b[12G85%\u001b[12G85%\u001b[12G85%\u001b[12G85%\u001b[12G85%\u001b[12G86%\u001b[12G86%\u001b[12G86%\u001b[12G86%\u001b[12G86%\u001b[12G86%\u001b[12G87%\u001b[12G87%\u001b[12G87%\u001b[12G87%\u001b[12G87%\u001b[12G87%\u001b[12G88%\u001b[12G88%\u001b[12G88%\u001b[12G88%\u001b[12G88%\u001b[12G88%\u001b[12G89%\u001b[12G89%\u001b[12G89%\u001b[12G89%\u001b[12G89%\u001b[12G89%\u001b[12G90%\u001b[12G90%\u001b[12G90%\u001b[12G90%\u001b[12G90%\u001b[12G90%\u001b[12G91%\u001b[12G91%\u001b[12G91%\u001b[12G91%\u001b[12G91%\u001b[12G91%\u001b[12G92%\u001b[12G92%\u001b[12G92%\u001b[12G92%\u001b[12G92%\u001b[12G92%\u001b[12G93%\u001b[12G93%\u001b[12G93%\u001b[12G93%\u001b[12G93%\u001b[12G93%\u001b[12G94%\u001b[12G94%\u001b[12G94%\u001b[12G94%\u001b[12G94%\u001b[12G94%\u001b[12G95%\u001b[12G95%\u001b[12G95%\u001b[12G95%\u001b[12G95%\u001b[12G95%\u001b[12G96%\u001b[12G96%\u001b[12G96%\u001b[12G96%\u001b[12G96%\u001b[12G96%\u001b[12G97%\u001b[12G97%\u001b[12G97%\u001b[12G97%\u001b[12G97%\u001b[12G97%\u001b[12G98%\u001b[12G98%\u001b[12G98%\u001b[12G98%\u001b[12G98%\u001b[12G98%\u001b[12G99%\u001b[12G99%\u001b[12G99%\u001b[12G99%\u001b[12G99%\u001b[12G99%\u001b[12G100%\n",
            "\n",
            "Train and evaluation on Test-Set successfully completed in 5.817 sec !\n",
            "\n"
          ]
        }
      ]
    }
  ]
}