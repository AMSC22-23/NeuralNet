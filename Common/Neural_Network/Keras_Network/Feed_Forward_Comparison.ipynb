{
  "cells": [
    {
      "cell_type": "markdown",
      "metadata": {
        "id": "oPjm2yvjapb2"
      },
      "source": [
        "\n",
        "# Loading GDrive options\n",
        "\n",
        "Here you need to modfy the code in order to mount your own google drive account an access to the `Common/NeuralNetwork` folder\n",
        "\n",
        "\n"
      ]
    },
    {
      "cell_type": "code",
      "execution_count": 1,
      "metadata": {
        "colab": {
          "base_uri": "https://localhost:8080/"
        },
        "id": "22Y_53zraOPl",
        "outputId": "334903de-ce46-4c67-dd0d-43b64595e6b9"
      },
      "outputs": [
        {
          "output_type": "stream",
          "name": "stdout",
          "text": [
            "Mounted at /gdrive\n",
            "/gdrive/Othercomputers/Il mio PC/Dsktp_Gdrive/NeuralNet/Common/Neural_Network\n"
          ]
        }
      ],
      "source": [
        "from google.colab import drive\n",
        "drive.mount('/gdrive')\n",
        "%cd /gdrive/Othercomputers/Il mio PC/Dsktp_Gdrive/NeuralNet/Common/Neural_Network"
      ]
    },
    {
      "cell_type": "markdown",
      "metadata": {
        "id": "BSeibxH_aSR1"
      },
      "source": [
        "# KERAS MODEL"
      ]
    },
    {
      "cell_type": "code",
      "execution_count": 2,
      "metadata": {
        "colab": {
          "base_uri": "https://localhost:8080/"
        },
        "id": "4RZLopZ1bOhz",
        "outputId": "7bd9262b-0b28-405f-805d-8b646455b674"
      },
      "outputs": [
        {
          "output_type": "stream",
          "name": "stdout",
          "text": [
            "2.15.0\n"
          ]
        }
      ],
      "source": [
        "# Fix randomness, hide warnings and load modules and libraries\n",
        "seed = 42\n",
        "\n",
        "import os\n",
        "os.environ['TF_CPP_MIN_LOG_LEVEL'] = '3'\n",
        "os.environ['PYTHONHASHSEED'] = str(seed)\n",
        "os.environ['MPLCONFIGDIR'] = os.getcwd()+'/configs/'\n",
        "\n",
        "import warnings\n",
        "warnings.simplefilter(action='ignore', category=FutureWarning)\n",
        "warnings.simplefilter(action='ignore', category=Warning)\n",
        "\n",
        "import numpy as np\n",
        "np.random.seed(seed)\n",
        "\n",
        "import logging\n",
        "\n",
        "import random\n",
        "random.seed(seed)\n",
        "\n",
        "import tensorflow as tf\n",
        "from tensorflow import keras as tfk\n",
        "from tensorflow.keras import layers as tfkl\n",
        "tf.autograph.set_verbosity(0)\n",
        "tf.get_logger().setLevel(logging.ERROR)\n",
        "tf.compat.v1.logging.set_verbosity(tf.compat.v1.logging.ERROR)\n",
        "tf.random.set_seed(seed)\n",
        "tf.compat.v1.set_random_seed(seed)\n",
        "print(tf.__version__)\n",
        "\n",
        "import pandas as pd\n",
        "import seaborn as sns\n",
        "import matplotlib.pyplot as plt\n",
        "from sklearn.datasets import load_iris\n",
        "from sklearn.metrics import accuracy_score\n",
        "from sklearn.model_selection import train_test_split\n",
        "import time"
      ]
    },
    {
      "cell_type": "markdown",
      "metadata": {
        "id": "i7drJKh-brIU"
      },
      "source": [
        "# Load data"
      ]
    },
    {
      "cell_type": "code",
      "execution_count": 3,
      "metadata": {
        "id": "_Hp0mh2ybvBP"
      },
      "outputs": [],
      "source": [
        "# Load the Iris dataset into a variable 'data'\n",
        "data = load_iris()\n",
        "iris_dataset = pd.DataFrame(data.data, columns=data.feature_names)\n",
        "\n",
        "target = data.target\n",
        "unique, count = np.unique(target, return_counts=True)\n",
        "\n",
        "# Split the dataset into a combined training and validation set, and a separate test set\n",
        "X_train_val, X_test, y_train_val, y_test = train_test_split(\n",
        "    iris_dataset,\n",
        "    target,\n",
        "    test_size = 30,\n",
        "    random_state = seed,\n",
        "    stratify = target\n",
        ")\n",
        "\n",
        "# Further split the combined training and validation set into a training set and a validation set\n",
        "X_train, X_val, y_train, y_val = train_test_split(\n",
        "    X_train_val,\n",
        "    y_train_val,\n",
        "    test_size = 30,\n",
        "    random_state = seed,\n",
        "    stratify = y_train_val\n",
        ")\n",
        "\n",
        "max_df = X_train.max()\n",
        "min_df = X_train.min()\n",
        "\n",
        "# Normalise the dataset splits in the range [0,1]\n",
        "X_train = (X_train - min_df)/(max_df - min_df)\n",
        "X_val = (X_val - min_df)/(max_df - min_df)\n",
        "X_test = (X_test - min_df)/(max_df - min_df)\n",
        "\n",
        "# Transform labels via one-hot encoding\n",
        "y_train = tfk.utils.to_categorical(y_train, num_classes=len(unique))\n",
        "y_val = tfk.utils.to_categorical(y_val, num_classes=len(unique))\n",
        "y_test = tfk.utils.to_categorical(y_test, num_classes=len(unique))\n",
        "\n",
        "input_shape = X_train.shape[1:]\n",
        "output_shape = y_train.shape[1]\n",
        "\n",
        "#define parameters\n",
        "batch_size = 16\n",
        "epochs = 100"
      ]
    },
    {
      "cell_type": "markdown",
      "metadata": {
        "id": "Dsj2JmjPdiNw"
      },
      "source": [
        "# Build the model"
      ]
    },
    {
      "cell_type": "code",
      "execution_count": 4,
      "metadata": {
        "id": "Q-RWQNizdmQB"
      },
      "outputs": [],
      "source": [
        "def build_model(\n",
        "    input_shape,\n",
        "    output_shape,\n",
        "    seed=seed\n",
        "):\n",
        "\n",
        "    # Fix randomness\n",
        "    tf.random.set_seed(seed)\n",
        "\n",
        "    # Build the neural network layer by layer\n",
        "    input_layer = tfkl.Input(shape=input_shape, name='Input')\n",
        "\n",
        "    hidden_layer = tfkl.Dense(units=128, name='Hidden')(input_layer)\n",
        "    hidden_activation = tfkl.Activation('relu', name='HiddenActivation')(hidden_layer)\n",
        "    # added for comparison\n",
        "    #hidden_layer2 = tfkl.Dense(units=1280, name='Hidden2')(hidden_activation)\n",
        "    #hidden_activation2 = tfkl.Activation('relu', name='HiddenActivation2')(hidden_layer2)\n",
        "\n",
        "    #output_layer = tfkl.Dense(units=output_shape, name='Output')(hidden_activation2)\n",
        "\n",
        "    output_layer = tfkl.Dense(units=output_shape, name='Output')(hidden_activation)\n",
        "    output_activation = tfkl.Activation('softmax', name='Softmax')(output_layer)\n",
        "\n",
        "    # Connect input and output through the Model class\n",
        "    model = tfk.Model(inputs=input_layer, outputs=output_activation, name='Feedforward')\n",
        "\n",
        "    # Compile the model\n",
        "    loss = tfk.losses.CategoricalCrossentropy()\n",
        "    learning_rate = 0.05\n",
        "    optimizer = tfk.optimizers.SGD(learning_rate)\n",
        "    metrics = ['Accuracy']\n",
        "    model.compile(loss=loss, optimizer=optimizer, metrics=metrics)\n",
        "\n",
        "    # Return the model\n",
        "    return model\n",
        "\n",
        "    model = build_model(input_shape, output_shape)\n",
        "\n"
      ]
    },
    {
      "cell_type": "markdown",
      "metadata": {
        "id": "2_n8Aos1d-iB"
      },
      "source": [
        "# Trein the model"
      ]
    },
    {
      "cell_type": "code",
      "execution_count": 5,
      "metadata": {
        "colab": {
          "base_uri": "https://localhost:8080/"
        },
        "id": "Ps5Mf5Wjd9lT",
        "outputId": "2d530984-54ea-4f80-9ff8-53005b96fbd0"
      },
      "outputs": [
        {
          "output_type": "stream",
          "name": "stdout",
          "text": [
            "Model: \"Feedforward\"\n",
            "_________________________________________________________________\n",
            " Layer (type)                Output Shape              Param #   \n",
            "=================================================================\n",
            " Input (InputLayer)          [(None, 4)]               0         \n",
            "                                                                 \n",
            " Hidden (Dense)              (None, 128)               640       \n",
            "                                                                 \n",
            " HiddenActivation (Activati  (None, 128)               0         \n",
            " on)                                                             \n",
            "                                                                 \n",
            " Output (Dense)              (None, 3)                 387       \n",
            "                                                                 \n",
            " Softmax (Activation)        (None, 3)                 0         \n",
            "                                                                 \n",
            "=================================================================\n",
            "Total params: 1027 (4.01 KB)\n",
            "Trainable params: 1027 (4.01 KB)\n",
            "Non-trainable params: 0 (0.00 Byte)\n",
            "_________________________________________________________________\n",
            "Epoch 1/100\n",
            "6/6 [==============================] - 2s 45ms/step - loss: 1.0950 - Accuracy: 0.3556 - val_loss: 1.0405 - val_Accuracy: 0.5000\n",
            "Epoch 2/100\n",
            "6/6 [==============================] - 0s 12ms/step - loss: 1.0339 - Accuracy: 0.6556 - val_loss: 0.9868 - val_Accuracy: 0.6667\n",
            "Epoch 3/100\n",
            "6/6 [==============================] - 0s 8ms/step - loss: 0.9871 - Accuracy: 0.6556 - val_loss: 0.9455 - val_Accuracy: 0.6667\n",
            "Epoch 4/100\n",
            "6/6 [==============================] - 0s 12ms/step - loss: 0.9490 - Accuracy: 0.6556 - val_loss: 0.9091 - val_Accuracy: 0.6667\n",
            "Epoch 5/100\n",
            "6/6 [==============================] - 0s 12ms/step - loss: 0.9139 - Accuracy: 0.6667 - val_loss: 0.8765 - val_Accuracy: 0.6667\n",
            "Epoch 6/100\n",
            "6/6 [==============================] - 0s 11ms/step - loss: 0.8831 - Accuracy: 0.6667 - val_loss: 0.8467 - val_Accuracy: 0.6667\n",
            "Epoch 7/100\n",
            "6/6 [==============================] - 0s 8ms/step - loss: 0.8555 - Accuracy: 0.6667 - val_loss: 0.8193 - val_Accuracy: 0.6667\n",
            "Epoch 8/100\n",
            "6/6 [==============================] - 0s 8ms/step - loss: 0.8292 - Accuracy: 0.6667 - val_loss: 0.7928 - val_Accuracy: 0.6667\n",
            "Epoch 9/100\n",
            "6/6 [==============================] - 0s 11ms/step - loss: 0.8043 - Accuracy: 0.6667 - val_loss: 0.7672 - val_Accuracy: 0.6667\n",
            "Epoch 10/100\n",
            "6/6 [==============================] - 0s 11ms/step - loss: 0.7784 - Accuracy: 0.6667 - val_loss: 0.7430 - val_Accuracy: 0.6667\n",
            "Epoch 11/100\n",
            "6/6 [==============================] - 0s 11ms/step - loss: 0.7551 - Accuracy: 0.6667 - val_loss: 0.7203 - val_Accuracy: 0.6667\n",
            "Epoch 12/100\n",
            "6/6 [==============================] - 0s 11ms/step - loss: 0.7340 - Accuracy: 0.6667 - val_loss: 0.6987 - val_Accuracy: 0.6667\n",
            "Epoch 13/100\n",
            "6/6 [==============================] - 0s 11ms/step - loss: 0.7120 - Accuracy: 0.6667 - val_loss: 0.6785 - val_Accuracy: 0.6667\n",
            "Epoch 14/100\n",
            "6/6 [==============================] - 0s 8ms/step - loss: 0.6959 - Accuracy: 0.7556 - val_loss: 0.6593 - val_Accuracy: 0.6667\n",
            "Epoch 15/100\n",
            "6/6 [==============================] - 0s 11ms/step - loss: 0.6734 - Accuracy: 0.6778 - val_loss: 0.6415 - val_Accuracy: 0.6667\n",
            "Epoch 16/100\n",
            "6/6 [==============================] - 0s 13ms/step - loss: 0.6564 - Accuracy: 0.6889 - val_loss: 0.6243 - val_Accuracy: 0.6667\n",
            "Epoch 17/100\n",
            "6/6 [==============================] - 0s 8ms/step - loss: 0.6392 - Accuracy: 0.6889 - val_loss: 0.6082 - val_Accuracy: 0.6667\n",
            "Epoch 18/100\n",
            "6/6 [==============================] - 0s 9ms/step - loss: 0.6229 - Accuracy: 0.6778 - val_loss: 0.5931 - val_Accuracy: 0.7333\n",
            "Epoch 19/100\n",
            "6/6 [==============================] - 0s 12ms/step - loss: 0.6086 - Accuracy: 0.7111 - val_loss: 0.5795 - val_Accuracy: 0.8333\n",
            "Epoch 20/100\n",
            "6/6 [==============================] - 0s 12ms/step - loss: 0.5944 - Accuracy: 0.8000 - val_loss: 0.5663 - val_Accuracy: 0.7333\n",
            "Epoch 21/100\n",
            "6/6 [==============================] - 0s 10ms/step - loss: 0.5827 - Accuracy: 0.7556 - val_loss: 0.5544 - val_Accuracy: 0.7333\n",
            "Epoch 22/100\n",
            "6/6 [==============================] - 0s 9ms/step - loss: 0.5682 - Accuracy: 0.7111 - val_loss: 0.5429 - val_Accuracy: 0.7333\n",
            "Epoch 23/100\n",
            "6/6 [==============================] - 0s 11ms/step - loss: 0.5569 - Accuracy: 0.7333 - val_loss: 0.5322 - val_Accuracy: 0.8333\n",
            "Epoch 24/100\n",
            "6/6 [==============================] - 0s 11ms/step - loss: 0.5467 - Accuracy: 0.7556 - val_loss: 0.5222 - val_Accuracy: 0.8333\n",
            "Epoch 25/100\n",
            "6/6 [==============================] - 0s 11ms/step - loss: 0.5381 - Accuracy: 0.7556 - val_loss: 0.5132 - val_Accuracy: 0.8333\n",
            "Epoch 26/100\n",
            "6/6 [==============================] - 0s 8ms/step - loss: 0.5276 - Accuracy: 0.8778 - val_loss: 0.5039 - val_Accuracy: 0.8333\n",
            "Epoch 27/100\n",
            "6/6 [==============================] - 0s 11ms/step - loss: 0.5169 - Accuracy: 0.8444 - val_loss: 0.4956 - val_Accuracy: 0.8333\n",
            "Epoch 28/100\n",
            "6/6 [==============================] - 0s 8ms/step - loss: 0.5080 - Accuracy: 0.8889 - val_loss: 0.4877 - val_Accuracy: 0.8333\n",
            "Epoch 29/100\n",
            "6/6 [==============================] - 0s 8ms/step - loss: 0.5004 - Accuracy: 0.8667 - val_loss: 0.4802 - val_Accuracy: 0.8333\n",
            "Epoch 30/100\n",
            "6/6 [==============================] - 0s 8ms/step - loss: 0.4920 - Accuracy: 0.8556 - val_loss: 0.4733 - val_Accuracy: 0.8333\n",
            "Epoch 31/100\n",
            "6/6 [==============================] - 0s 8ms/step - loss: 0.4855 - Accuracy: 0.8889 - val_loss: 0.4665 - val_Accuracy: 0.8333\n",
            "Epoch 32/100\n",
            "6/6 [==============================] - 0s 11ms/step - loss: 0.4782 - Accuracy: 0.8667 - val_loss: 0.4600 - val_Accuracy: 0.8333\n",
            "Epoch 33/100\n",
            "6/6 [==============================] - 0s 8ms/step - loss: 0.4719 - Accuracy: 0.8556 - val_loss: 0.4538 - val_Accuracy: 0.8333\n",
            "Epoch 34/100\n",
            "6/6 [==============================] - 0s 11ms/step - loss: 0.4650 - Accuracy: 0.8778 - val_loss: 0.4477 - val_Accuracy: 0.8667\n",
            "Epoch 35/100\n",
            "6/6 [==============================] - 0s 11ms/step - loss: 0.4587 - Accuracy: 0.9111 - val_loss: 0.4421 - val_Accuracy: 0.8333\n",
            "Epoch 36/100\n",
            "6/6 [==============================] - 0s 8ms/step - loss: 0.4525 - Accuracy: 0.8778 - val_loss: 0.4362 - val_Accuracy: 0.8667\n",
            "Epoch 37/100\n",
            "6/6 [==============================] - 0s 8ms/step - loss: 0.4483 - Accuracy: 0.9000 - val_loss: 0.4308 - val_Accuracy: 0.8667\n",
            "Epoch 38/100\n",
            "6/6 [==============================] - 0s 8ms/step - loss: 0.4415 - Accuracy: 0.9111 - val_loss: 0.4258 - val_Accuracy: 0.8667\n",
            "Epoch 39/100\n",
            "6/6 [==============================] - 0s 8ms/step - loss: 0.4388 - Accuracy: 0.9000 - val_loss: 0.4203 - val_Accuracy: 0.8667\n",
            "Epoch 40/100\n",
            "6/6 [==============================] - 0s 10ms/step - loss: 0.4296 - Accuracy: 0.9000 - val_loss: 0.4152 - val_Accuracy: 0.9333\n",
            "Epoch 41/100\n",
            "6/6 [==============================] - 0s 10ms/step - loss: 0.4251 - Accuracy: 0.9111 - val_loss: 0.4114 - val_Accuracy: 0.8333\n",
            "Epoch 42/100\n",
            "6/6 [==============================] - 0s 11ms/step - loss: 0.4200 - Accuracy: 0.8778 - val_loss: 0.4055 - val_Accuracy: 0.9333\n",
            "Epoch 43/100\n",
            "6/6 [==============================] - 0s 11ms/step - loss: 0.4163 - Accuracy: 0.9111 - val_loss: 0.4017 - val_Accuracy: 0.8667\n",
            "Epoch 44/100\n",
            "6/6 [==============================] - 0s 9ms/step - loss: 0.4127 - Accuracy: 0.8667 - val_loss: 0.3956 - val_Accuracy: 0.9333\n",
            "Epoch 45/100\n",
            "6/6 [==============================] - 0s 12ms/step - loss: 0.4057 - Accuracy: 0.9333 - val_loss: 0.3900 - val_Accuracy: 0.9333\n",
            "Epoch 46/100\n",
            "6/6 [==============================] - 0s 8ms/step - loss: 0.3995 - Accuracy: 0.9111 - val_loss: 0.3852 - val_Accuracy: 0.9333\n",
            "Epoch 47/100\n",
            "6/6 [==============================] - 0s 8ms/step - loss: 0.3946 - Accuracy: 0.9444 - val_loss: 0.3804 - val_Accuracy: 0.9333\n",
            "Epoch 48/100\n",
            "6/6 [==============================] - 0s 9ms/step - loss: 0.3887 - Accuracy: 0.9222 - val_loss: 0.3760 - val_Accuracy: 0.9333\n",
            "Epoch 49/100\n",
            "6/6 [==============================] - 0s 8ms/step - loss: 0.3869 - Accuracy: 0.9333 - val_loss: 0.3723 - val_Accuracy: 0.9333\n",
            "Epoch 50/100\n",
            "6/6 [==============================] - 0s 11ms/step - loss: 0.3805 - Accuracy: 0.9222 - val_loss: 0.3676 - val_Accuracy: 0.9333\n",
            "Epoch 51/100\n",
            "6/6 [==============================] - 0s 8ms/step - loss: 0.3765 - Accuracy: 0.9333 - val_loss: 0.3637 - val_Accuracy: 0.9333\n",
            "Epoch 52/100\n",
            "6/6 [==============================] - 0s 8ms/step - loss: 0.3738 - Accuracy: 0.9333 - val_loss: 0.3606 - val_Accuracy: 0.9667\n",
            "Epoch 53/100\n",
            "6/6 [==============================] - 0s 11ms/step - loss: 0.3682 - Accuracy: 0.9333 - val_loss: 0.3563 - val_Accuracy: 0.9667\n",
            "Epoch 54/100\n",
            "6/6 [==============================] - 0s 11ms/step - loss: 0.3632 - Accuracy: 0.9444 - val_loss: 0.3524 - val_Accuracy: 0.9667\n",
            "Epoch 55/100\n",
            "6/6 [==============================] - 0s 8ms/step - loss: 0.3609 - Accuracy: 0.9222 - val_loss: 0.3483 - val_Accuracy: 0.9333\n",
            "Epoch 56/100\n",
            "6/6 [==============================] - 0s 11ms/step - loss: 0.3577 - Accuracy: 0.9222 - val_loss: 0.3449 - val_Accuracy: 0.9333\n",
            "Epoch 57/100\n",
            "6/6 [==============================] - 0s 11ms/step - loss: 0.3510 - Accuracy: 0.9444 - val_loss: 0.3412 - val_Accuracy: 0.9333\n",
            "Epoch 58/100\n",
            "6/6 [==============================] - 0s 8ms/step - loss: 0.3483 - Accuracy: 0.9333 - val_loss: 0.3387 - val_Accuracy: 0.9333\n",
            "Epoch 59/100\n",
            "6/6 [==============================] - 0s 12ms/step - loss: 0.3455 - Accuracy: 0.9111 - val_loss: 0.3347 - val_Accuracy: 1.0000\n",
            "Epoch 60/100\n",
            "6/6 [==============================] - 0s 8ms/step - loss: 0.3404 - Accuracy: 0.9556 - val_loss: 0.3303 - val_Accuracy: 0.9333\n",
            "Epoch 61/100\n",
            "6/6 [==============================] - 0s 8ms/step - loss: 0.3377 - Accuracy: 0.9556 - val_loss: 0.3275 - val_Accuracy: 0.9333\n",
            "Epoch 62/100\n",
            "6/6 [==============================] - 0s 8ms/step - loss: 0.3329 - Accuracy: 0.9333 - val_loss: 0.3238 - val_Accuracy: 0.9667\n",
            "Epoch 63/100\n",
            "6/6 [==============================] - 0s 8ms/step - loss: 0.3306 - Accuracy: 0.9444 - val_loss: 0.3204 - val_Accuracy: 0.9667\n",
            "Epoch 64/100\n",
            "6/6 [==============================] - 0s 9ms/step - loss: 0.3274 - Accuracy: 0.9333 - val_loss: 0.3176 - val_Accuracy: 1.0000\n",
            "Epoch 65/100\n",
            "6/6 [==============================] - 0s 11ms/step - loss: 0.3244 - Accuracy: 0.9667 - val_loss: 0.3137 - val_Accuracy: 0.9333\n",
            "Epoch 66/100\n",
            "6/6 [==============================] - 0s 11ms/step - loss: 0.3187 - Accuracy: 0.9444 - val_loss: 0.3113 - val_Accuracy: 0.9333\n",
            "Epoch 67/100\n",
            "6/6 [==============================] - 0s 8ms/step - loss: 0.3165 - Accuracy: 0.9556 - val_loss: 0.3073 - val_Accuracy: 0.9667\n",
            "Epoch 68/100\n",
            "6/6 [==============================] - 0s 12ms/step - loss: 0.3132 - Accuracy: 0.9444 - val_loss: 0.3041 - val_Accuracy: 0.9667\n",
            "Epoch 69/100\n",
            "6/6 [==============================] - 0s 9ms/step - loss: 0.3088 - Accuracy: 0.9556 - val_loss: 0.3018 - val_Accuracy: 0.9333\n",
            "Epoch 70/100\n",
            "6/6 [==============================] - 0s 11ms/step - loss: 0.3056 - Accuracy: 0.9444 - val_loss: 0.2991 - val_Accuracy: 0.9333\n",
            "Epoch 71/100\n",
            "6/6 [==============================] - 0s 8ms/step - loss: 0.3027 - Accuracy: 0.9667 - val_loss: 0.2964 - val_Accuracy: 0.9333\n",
            "Epoch 72/100\n",
            "6/6 [==============================] - 0s 11ms/step - loss: 0.3021 - Accuracy: 0.9444 - val_loss: 0.2924 - val_Accuracy: 0.9667\n",
            "Epoch 73/100\n",
            "6/6 [==============================] - 0s 8ms/step - loss: 0.2956 - Accuracy: 0.9556 - val_loss: 0.2893 - val_Accuracy: 0.9667\n",
            "Epoch 74/100\n",
            "6/6 [==============================] - 0s 8ms/step - loss: 0.2935 - Accuracy: 0.9444 - val_loss: 0.2865 - val_Accuracy: 0.9667\n",
            "Epoch 75/100\n",
            "6/6 [==============================] - 0s 10ms/step - loss: 0.2924 - Accuracy: 0.9667 - val_loss: 0.2842 - val_Accuracy: 0.9333\n",
            "Epoch 76/100\n",
            "6/6 [==============================] - 0s 8ms/step - loss: 0.2862 - Accuracy: 0.9556 - val_loss: 0.2808 - val_Accuracy: 0.9667\n",
            "Epoch 77/100\n",
            "6/6 [==============================] - 0s 8ms/step - loss: 0.2843 - Accuracy: 0.9667 - val_loss: 0.2783 - val_Accuracy: 0.9667\n",
            "Epoch 78/100\n",
            "6/6 [==============================] - 0s 8ms/step - loss: 0.2820 - Accuracy: 0.9444 - val_loss: 0.2767 - val_Accuracy: 0.9333\n",
            "Epoch 79/100\n",
            "6/6 [==============================] - 0s 11ms/step - loss: 0.2794 - Accuracy: 0.9556 - val_loss: 0.2732 - val_Accuracy: 0.9667\n",
            "Epoch 80/100\n",
            "6/6 [==============================] - 0s 11ms/step - loss: 0.2762 - Accuracy: 0.9444 - val_loss: 0.2699 - val_Accuracy: 0.9667\n",
            "Epoch 81/100\n",
            "6/6 [==============================] - 0s 12ms/step - loss: 0.2722 - Accuracy: 0.9444 - val_loss: 0.2675 - val_Accuracy: 0.9667\n",
            "Epoch 82/100\n",
            "6/6 [==============================] - 0s 8ms/step - loss: 0.2708 - Accuracy: 0.9444 - val_loss: 0.2651 - val_Accuracy: 1.0000\n",
            "Epoch 83/100\n",
            "6/6 [==============================] - 0s 13ms/step - loss: 0.2667 - Accuracy: 0.9667 - val_loss: 0.2628 - val_Accuracy: 0.9667\n",
            "Epoch 84/100\n",
            "6/6 [==============================] - 0s 8ms/step - loss: 0.2651 - Accuracy: 0.9556 - val_loss: 0.2612 - val_Accuracy: 0.9667\n",
            "Epoch 85/100\n",
            "6/6 [==============================] - 0s 8ms/step - loss: 0.2632 - Accuracy: 0.9556 - val_loss: 0.2595 - val_Accuracy: 0.9333\n",
            "Epoch 86/100\n",
            "6/6 [==============================] - 0s 8ms/step - loss: 0.2608 - Accuracy: 0.9556 - val_loss: 0.2557 - val_Accuracy: 0.9667\n",
            "Epoch 87/100\n",
            "6/6 [==============================] - 0s 8ms/step - loss: 0.2569 - Accuracy: 0.9556 - val_loss: 0.2540 - val_Accuracy: 0.9667\n",
            "Epoch 88/100\n",
            "6/6 [==============================] - 0s 8ms/step - loss: 0.2553 - Accuracy: 0.9556 - val_loss: 0.2505 - val_Accuracy: 0.9667\n",
            "Epoch 89/100\n",
            "6/6 [==============================] - 0s 8ms/step - loss: 0.2526 - Accuracy: 0.9556 - val_loss: 0.2495 - val_Accuracy: 0.9667\n",
            "Epoch 90/100\n",
            "6/6 [==============================] - 0s 11ms/step - loss: 0.2503 - Accuracy: 0.9556 - val_loss: 0.2459 - val_Accuracy: 0.9667\n",
            "Epoch 91/100\n",
            "6/6 [==============================] - 0s 9ms/step - loss: 0.2464 - Accuracy: 0.9556 - val_loss: 0.2438 - val_Accuracy: 0.9667\n",
            "Epoch 92/100\n",
            "6/6 [==============================] - 0s 8ms/step - loss: 0.2433 - Accuracy: 0.9667 - val_loss: 0.2416 - val_Accuracy: 0.9667\n",
            "Epoch 93/100\n",
            "6/6 [==============================] - 0s 12ms/step - loss: 0.2421 - Accuracy: 0.9667 - val_loss: 0.2401 - val_Accuracy: 0.9667\n",
            "Epoch 94/100\n",
            "6/6 [==============================] - 0s 11ms/step - loss: 0.2399 - Accuracy: 0.9556 - val_loss: 0.2385 - val_Accuracy: 0.9667\n",
            "Epoch 95/100\n",
            "6/6 [==============================] - 0s 8ms/step - loss: 0.2408 - Accuracy: 0.9556 - val_loss: 0.2352 - val_Accuracy: 0.9667\n",
            "Epoch 96/100\n",
            "6/6 [==============================] - 0s 11ms/step - loss: 0.2350 - Accuracy: 0.9778 - val_loss: 0.2333 - val_Accuracy: 0.9667\n",
            "Epoch 97/100\n",
            "6/6 [==============================] - 0s 8ms/step - loss: 0.2316 - Accuracy: 0.9444 - val_loss: 0.2310 - val_Accuracy: 0.9667\n",
            "Epoch 98/100\n",
            "6/6 [==============================] - 0s 11ms/step - loss: 0.2306 - Accuracy: 0.9667 - val_loss: 0.2294 - val_Accuracy: 0.9667\n",
            "Epoch 99/100\n",
            "6/6 [==============================] - 0s 8ms/step - loss: 0.2323 - Accuracy: 0.9556 - val_loss: 0.2269 - val_Accuracy: 0.9667\n",
            "Epoch 100/100\n",
            "6/6 [==============================] - 0s 11ms/step - loss: 0.2257 - Accuracy: 0.9667 - val_loss: 0.2250 - val_Accuracy: 0.9667\n",
            "\n",
            "\n",
            "Accuracy score over the test set: 0.9333\n",
            "\n",
            "\n",
            "Total time spent: 7.667866230010986 s\n"
          ]
        }
      ],
      "source": [
        "model = build_model(input_shape, output_shape)\n",
        "model.summary()\n",
        "tfk.utils.plot_model(model, expand_nested=True, show_shapes=True)\n",
        "start_time = time.time()\n",
        "history = model.fit(\n",
        "    x = X_train,\n",
        "    y = y_train,\n",
        "    batch_size = batch_size,\n",
        "    epochs = epochs,\n",
        "    validation_data = (X_val, y_val)\n",
        ").history\n",
        "\n",
        "test_predictions = model.predict(X_test, verbose=0)\n",
        "test_predictions = np.argmax(test_predictions, axis=-1)\n",
        "\n",
        "test_gt = np.argmax(y_test, axis=-1)\n",
        "\n",
        "test_accuracy = accuracy_score(test_gt, test_predictions)\n",
        "print(f'\\n\\nAccuracy score over the test set: {round(test_accuracy, 4)}')\n",
        "end_time = time.time()\n",
        "elapsed_time = end_time - start_time\n",
        "\n",
        "print(\"\\n\\nTotal time spent:\", elapsed_time, \"s\")\n"
      ]
    },
    {
      "cell_type": "code",
      "execution_count": 6,
      "metadata": {
        "colab": {
          "base_uri": "https://localhost:8080/",
          "height": 457
        },
        "id": "I8uygvR2ehd7",
        "outputId": "7aa6144e-1e52-40c3-86ee-7d9cd514a8c2"
      },
      "outputs": [
        {
          "output_type": "display_data",
          "data": {
            "text/plain": [
              "<Figure size 1500x200 with 1 Axes>"
            ],
            "image/png": "[encoded data removed]"
          },
          "metadata": {}
        },
        {
          "output_type": "display_data",
          "data": {
            "text/plain": [
              "<Figure size 1500x200 with 1 Axes>"
            ],
            "image/png": "[encoded data removed]"
          },
          "metadata": {}
        }
      ],
      "source": [
        "# Create and display plots for training and validation loss\n",
        "plt.figure(figsize=(15,2))\n",
        "plt.plot(history['loss'], label='Training loss', alpha=.8)\n",
        "#plt.plot(history['val_loss'], label='Validation loss', alpha=.8)\n",
        "plt.title('Loss')\n",
        "plt.legend()\n",
        "plt.grid(alpha=.3)\n",
        "\n",
        "# Create and display plots for training and validation accuracy\n",
        "plt.figure(figsize=(15,2))\n",
        "plt.plot(history['Accuracy'], label='Training accuracy', alpha=.8)\n",
        "plt.plot(history['val_Accuracy'], label='Validation accuracy', alpha=.8)\n",
        "plt.title('Accuracy')\n",
        "plt.legend()\n",
        "plt.grid(alpha=.3)\n",
        "plt.show()"
      ]
    },
    {
      "cell_type": "markdown",
      "metadata": {
        "id": "u6GKOdxweuAS"
      },
      "source": [
        "# AMSC NEURAL NETWORK MODEL"
      ]
    },
    {
      "cell_type": "markdown",
      "source": [
        "### Modify main() if necessary"
      ],
      "metadata": {
        "id": "rIPVroJjYm4y"
      }
    },
    {
      "cell_type": "code",
      "source": [
        "%%writefile amsc_nnet.cpp\n",
        "\n",
        "#include \"irisLoader.hpp\"\n",
        "#include \"model.hpp\"\n",
        "#include <fstream>\n",
        "#include <sstream>\n",
        "#include <tuple>\n",
        "\n",
        "#include \"functions_utilities.hpp\"\n",
        "#include <algorithm>\n",
        "#include <random>\n",
        "#include <chrono>\n",
        "\n",
        "\n",
        "\n",
        "int main(){\n",
        "\n",
        "    //*******************************************************************************************************************************\n",
        "\n",
        "    //**************THIS PART IS RELATED IN LOADING DATA FROM IRIS DATASET .CSV******************************************************\n",
        "\n",
        "    //*******************************************************************************************************************************\n",
        "\n",
        "    using IrisTuple = std::tuple<float, float, float, float, std::tuple<int, int, int>>;\n",
        "\n",
        "    std::vector<std::vector<IrisTuple>> iris_se_data, iris_vi_data, iris_ve_data;\n",
        "    std::vector<std::vector<float>> trainSet, validationSet, testSet, trainOut, validationOut, testOut;\n",
        "    int a=2;\n",
        "\n",
        "    auto result = readIrisData<float>(\"./DataSet/Iris.csv\");\n",
        "    auto split_result = getIrisSets<float>(result, 0.6, 0.2, 0.2);\n",
        "\n",
        "    //RETRIVING .CSV DATA\n",
        "    trainSet = std::get<0>(split_result);\n",
        "    trainOut = std::get<1>(split_result);\n",
        "    validationSet = std::get<2>(split_result);\n",
        "    validationOut = std::get<3>(split_result);\n",
        "    testSet = std::get<4>(split_result);\n",
        "    testOut = std::get<5>(split_result);\n",
        "\n",
        "    //******************************CODE RELATED TO THE MODEL***********************************************************************\n",
        "\n",
        "    //CREATING MODEL\n",
        "    shuffleData(trainSet, trainOut);\n",
        "    Input input(trainSet, validationSet, testSet);\n",
        "    Output output(trainOut, validationOut, testOut, \"SoftMax\");\n",
        "    Layer layer1(\"layer1\", 128, \"ReLu\"), layer2(\"layer2\", 3000, \"ReLu\"), layer3(\"layer33\", 3000, \"ReLu\");  //128 neurons and one layer best in train set at the moment\n",
        "    Model model(\"myModel\",100, 16, 0.05, \"MSE\", input, output, \"early_stop\"); //batch around 8-16 learning rate 0.05 works well\n",
        "    model.setWeightdInitialization(\"He\");  //He best in train set at the moment, Xavier works well too, Normal is fine, Uniform do not work\n",
        "\n",
        "\n",
        "    //BUILDING THE MODEL\n",
        "\n",
        "    model.addLayer(layer1);             //UNCOMMENT LAYERS NEEDED\n",
        "    //model.addLayer(layer2);\n",
        "    //model.addLayer(layer3);\n",
        "\n",
        "    model.buildModel();\n",
        "    //model.printAllWeightsToFile();\n",
        "\n",
        "\n",
        "\n",
        "    //TRAINING THE MODEL\n",
        "\n",
        "    model.train( a);\n",
        "\n",
        "    //Debug test            //THIS IF YOU WANT ONE STEP PREDICTION AND SEE HOW THE MATRIX CHANGE\n",
        "\n",
        "    //model.predict(trainSet[0], a, 1);\n",
        "    //model.backPropagation(trainSet[0], trainOut[0], a);\n",
        "    //model.printAllWeightsToFile();\n",
        "\n",
        "    //model.printAllWeightsToFile();\n",
        "\n",
        "    return 0;\n",
        "}"
      ],
      "metadata": {
        "colab": {
          "base_uri": "https://localhost:8080/"
        },
        "id": "RD6PO44pY4ax",
        "outputId": "a99a2796-54f3-49d0-f994-567ba26646ca"
      },
      "execution_count": 15,
      "outputs": [
        {
          "output_type": "stream",
          "name": "stdout",
          "text": [
            "Overwriting amsc_nnet.cpp\n"
          ]
        }
      ]
    },
    {
      "cell_type": "markdown",
      "metadata": {
        "id": "07fozTKxhXf9"
      },
      "source": [
        "### Compile the code"
      ]
    },
    {
      "cell_type": "code",
      "execution_count": 16,
      "metadata": {
        "id": "0mdBHyXje1F_"
      },
      "outputs": [],
      "source": [
        "!g++ -O3 -std=c++17 -I ../include -march=native -ffast-math amsc_nnet.cpp ../src/irisLoader.cpp ../src/network_functions.cpp ../src/ActivationFunctions.cpp ../src/matrixProd_AVX.cpp -mavx2 -mfma -std=c++20 -o amsc_nnet"
      ]
    },
    {
      "cell_type": "markdown",
      "metadata": {
        "id": "e1wbSSCahe6D"
      },
      "source": [
        "### Run the code"
      ]
    },
    {
      "cell_type": "code",
      "execution_count": 17,
      "metadata": {
        "colab": {
          "base_uri": "https://localhost:8080/"
        },
        "id": "g9WQeEzahmaN",
        "outputId": "78c14b8d-a046-458e-f208-059f734cdf90"
      },
      "outputs": [
        {
          "output_type": "stream",
          "name": "stdout",
          "text": [
            "Building model...\n",
            "Model name: myModel\n",
            "Number of epochs: 100\n",
            "Batch size: 16\n",
            "Learning rate: 0.05\n",
            "Loss function: MSE\n",
            "Stop cryteria: early_stop\n",
            "\n",
            "Input layer: \n",
            "Number of input introduced in the network: 4\n",
            "\n",
            "\n",
            "Model name: myModel\n",
            "-------------------------------------------------------------\n",
            "Layers (type)                  Output Shape         Params #\n",
            "=============================================================\n",
            "\n",
            "Input (Input Layer)\u001b[38G4\u001b[55G0\n",
            "\n",
            "layer1 (Dense)\u001b[38G200\u001b[55G1000\n",
            "\n",
            "ReLu (Hidden Layer)\u001b[38G200\u001b[55G0\n",
            "\n",
            "Output (Output layer)\u001b[38G3\u001b[55G603\n",
            "\n",
            "SoftMax (Activation Function)\u001b[38G3\u001b[55G0\n",
            "\n",
            "=============================================================\n",
            "\n",
            "Total params: 1603 (6 KB)\n",
            "_____________________________________________________________\n",
            "\n",
            "Model built!\n",
            "\n",
            "Train started !  (details and results available in Train_Output.txt file)\n",
            "\n",
            "progress: 100%\n",
            "\n",
            "Total mul: 9000\n",
            "\n",
            "Final Accuracy on the TestSet: 1\n",
            "\n",
            "\n",
            "Train and evaluation on Test-Set successfully completed in 0.799 sec !\n",
            "\n"
          ]
        }
      ],
      "source": [
        "!./amsc_nnet"
      ]
    },
    {
      "cell_type": "markdown",
      "source": [
        "### Compare the results wrt Keras"
      ],
      "metadata": {
        "id": "P7_ql_w5ajFG"
      }
    },
    {
      "cell_type": "code",
      "execution_count": 18,
      "metadata": {
        "colab": {
          "base_uri": "https://localhost:8080/",
          "height": 649
        },
        "id": "OL_nhEHomYUf",
        "outputId": "abd92b80-819f-4b6d-db9e-924e73ec3bce"
      },
      "outputs": [
        {
          "output_type": "display_data",
          "data": {
            "text/plain": [
              "<Figure size 1500x300 with 1 Axes>"
            ],
            "image/png": "[encoded data removed]"
          },
          "metadata": {}
        },
        {
          "output_type": "display_data",
          "data": {
            "text/plain": [
              "<Figure size 1500x300 with 1 Axes>"
            ],
            "image/png": "[encoded data removed]"
          },
          "metadata": {}
        }
      ],
      "source": [
        "acc = pd.read_csv(\"Accuracy.csv\", sep=\",\", skipinitialspace=True)\n",
        "\n",
        "plt.figure(figsize=(15,3))\n",
        "plt.plot(acc[\"epoch\"], acc[\"train_accuracy\"], label=\"Train Accuracy\", alpha=.8)\n",
        "plt.plot(acc[\"epoch\"], acc[\"validation_accuracy\"], label=\"Validation Accuracy\", alpha=.8)\n",
        "plt.plot(history['Accuracy'], label='K-Training accuracy', alpha=.8)\n",
        "plt.plot(history['val_Accuracy'], label='K-Validation accuracy', alpha=.8)\n",
        "\n",
        "plt.title(\"Train - Accuracy - Validation Accuracy\")\n",
        "plt.xlabel(\"Epoch\")\n",
        "plt.ylabel(\"Accuracy\")\n",
        "plt.legend()\n",
        "plt.grid(alpha=.3)\n",
        "\n",
        "lss = pd.read_csv(\"Loss.csv\", sep=\",\", skipinitialspace=True)\n",
        "\n",
        "plt.figure(figsize=(15,3))\n",
        "plt.plot(lss[\"epoch\"], lss[\"loss\"], label=\"loss\", alpha=.8)\n",
        "plt.plot(history['loss'], label='K-loss', alpha=.8)\n",
        "\n",
        "\n",
        "plt.title(\"Loss\")\n",
        "plt.xlabel(\"Epoch\")\n",
        "plt.ylabel(\"train - Loss\")\n",
        "plt.legend()\n",
        "plt.grid(alpha=.3)\n",
        "\n",
        "# Mostra il grafico\n",
        "plt.show()"
      ]
    },
    {
      "cell_type": "markdown",
      "metadata": {
        "id": "PSHiXw8X4PEJ"
      },
      "source": [
        "## Cuda Version"
      ]
    },
    {
      "cell_type": "markdown",
      "source": [
        "### Cuda version code #1"
      ],
      "metadata": {
        "id": "OFvNKYn6awP7"
      }
    },
    {
      "cell_type": "code",
      "source": [
        "%%writefile cuda_amsc_nnet.cpp\n",
        "\n",
        "#include \"irisLoader.hpp\"\n",
        "#include \"test_model.hpp\"\n",
        "#include <fstream>\n",
        "#include <sstream>\n",
        "#include <tuple>\n",
        "\n",
        "#include \"functions_utilities.hpp\"\n",
        "#include <algorithm>\n",
        "#include <random>\n",
        "#include <chrono>\n",
        "\n",
        "\n",
        "\n",
        "int main(){\n",
        "\n",
        "    //*******************************************************************************************************************************\n",
        "\n",
        "    //**************THIS PART IS RELATED IN LOADING DATA FROM IRIS DATASET .CSV******************************************************\n",
        "\n",
        "    //*******************************************************************************************************************************\n",
        "\n",
        "    using IrisTuple = std::tuple<float, float, float, float, std::tuple<int, int, int>>;\n",
        "\n",
        "    std::vector<std::vector<IrisTuple>> iris_se_data, iris_vi_data, iris_ve_data;\n",
        "    std::vector<std::vector<float>> trainSet, validationSet, testSet, trainOut, validationOut, testOut;\n",
        "    int a=2;\n",
        "\n",
        "    auto result = readIrisData<float>(\"./DataSet/Iris.csv\");\n",
        "    auto split_result = getIrisSets<float>(result, 0.6, 0.2, 0.2);\n",
        "\n",
        "    //RETRIVING .CSV DATA\n",
        "    trainSet = std::get<0>(split_result);\n",
        "    trainOut = std::get<1>(split_result);\n",
        "    validationSet = std::get<2>(split_result);\n",
        "    validationOut = std::get<3>(split_result);\n",
        "    testSet = std::get<4>(split_result);\n",
        "    testOut = std::get<5>(split_result);\n",
        "\n",
        "\n",
        "    //******************************CODE RELATED TO THE MODEL***********************************************************************\n",
        "\n",
        "\n",
        "    //CREATING MODEL\n",
        "    shuffleData(trainSet, trainOut);\n",
        "    Input input(trainSet, validationSet, testSet);\n",
        "    Output output(trainOut, validationOut, testOut, \"sigmoid\");\n",
        "    Layer layer1(\"layer1\", 128, \"ReLu\"), layer2(\"layer2\", 3000, \"ReLu\"), layer3(\"layer33\", 3000, \"ReLu\");  //128 neurons and one layer best in train set at the moment\n",
        "    Model model(\"myModel\",100, 16, 0.05, \"MSE\", input, output, \"early_stop\"); //batch around 8-16 learning rate 0.05 works well\n",
        "    model.setWeightdInitialization(\"He\");  //He best in train set at the moment, Xavier works well too, Normal is fine, Uniform do not work\n",
        "    model.setCudaBlockSize(4);\n",
        "\n",
        "    //BUILDING THE MODEL\n",
        "\n",
        "    model.addLayer(layer1);\n",
        "    //model.addLayer(layer2);\n",
        "    //model.addLayer(layer3);\n",
        "\n",
        "    model.buildModel();\n",
        "\n",
        "    //TRAINING THE MODEL\n",
        "\n",
        "    // #first cuda model\n",
        "    model.train(a);\n",
        "\n",
        "    return 0;\n",
        "}"
      ],
      "metadata": {
        "colab": {
          "base_uri": "https://localhost:8080/"
        },
        "id": "dKURi3yWa7A2",
        "outputId": "f9f4b994-a552-4bf9-9d79-333b579a0e5e"
      },
      "execution_count": 30,
      "outputs": [
        {
          "output_type": "stream",
          "name": "stdout",
          "text": [
            "Overwriting cuda_amsc_nnet.cpp\n"
          ]
        }
      ]
    },
    {
      "cell_type": "code",
      "execution_count": 31,
      "metadata": {
        "colab": {
          "base_uri": "https://localhost:8080/"
        },
        "id": "75Xe3D5i31hm",
        "outputId": "297e619a-32a4-426f-f14e-9ca3f8efa8a7"
      },
      "outputs": [
        {
          "output_type": "stream",
          "name": "stdout",
          "text": [
            "\n",
            "Compilation terminated.\n",
            "nvcc error   : 'cudafe++' died due to signal 2 \n"
          ]
        }
      ],
      "source": [
        "!nvcc -O3 -I ../include -arch=sm_75 -c ../src/cudaMMul.cu  -o test_cuda_functions.o\n",
        "!nvcc -O3 -I ../include -arch=sm_75 -c ../src/test_cuda_network_functions.cu -o test_cuda_network_functions.o"
      ]
    },
    {
      "cell_type": "code",
      "execution_count": 32,
      "metadata": {
        "id": "JulOe577SDEn"
      },
      "outputs": [],
      "source": [
        "!g++ -c -O3 -I ../include -std=c++17 -I ../include  -march=native -ffast-math cuda_amsc_nnet.cpp  ../src/irisLoader.cpp ../src/ActivationFunctions.cpp  ../src/matrixProd_AVX.cpp -mavx2 -mfma -std=c++20"
      ]
    },
    {
      "cell_type": "code",
      "execution_count": 33,
      "metadata": {
        "id": "xLHITQUGTIEC"
      },
      "outputs": [],
      "source": [
        "!nvcc ActivationFunctions.o test_cuda_functions.o matrixProd_AVX.o test_cuda_network_functions.o cuda_amsc_nnet.o irisLoader.o -o test_cuda_nnet"
      ]
    },
    {
      "cell_type": "code",
      "execution_count": 34,
      "metadata": {
        "colab": {
          "base_uri": "https://localhost:8080/"
        },
        "id": "voOQwJj2eUHS",
        "outputId": "d59f0f26-c035-4234-b186-0f018a1b72f5"
      },
      "outputs": [
        {
          "output_type": "stream",
          "name": "stdout",
          "text": [
            "Building model...\n",
            "Model name: myModel\n",
            "Number of epochs: 100\n",
            "Batch size: 16\n",
            "Learning rate: 0.05\n",
            "Loss function: MSE\n",
            "Stop cryteria: early_stop\n",
            "\n",
            "Input layer: \n",
            "Number of input introduced in the network: 4\n",
            "\n",
            "\n",
            "Model name: myModel\n",
            "-------------------------------------------------------------\n",
            "Layers (type)                  Output Shape         Params #\n",
            "=============================================================\n",
            "\n",
            "Input (Input Layer)\u001b[38G4\u001b[55G0\n",
            "\n",
            "layer1 (Dense)\u001b[38G128\u001b[55G640\n",
            "\n",
            "ReLu (Hidden Layer)\u001b[38G128\u001b[55G0\n",
            "\n",
            "Output (Output layer)\u001b[38G3\u001b[55G387\n",
            "\n",
            "sigmoid (Activation Function)\u001b[38G3\u001b[55G0\n",
            "\n",
            "=============================================================\n",
            "\n",
            "Total params: 1027 (4 KB)\n",
            "_____________________________________________________________\n",
            "\n",
            "Model built!\n",
            "\n",
            "Train started !  (details and results available in Train_Output.txt file)\n",
            "\n",
            "progress: 100%\n",
            "\n",
            "Total mul: 9000\n",
            "\n",
            "Final Accuracy on the TestSet: 1\n",
            "\n",
            "\n",
            "Train and evaluation on Test-Set successfully completed in 14.779 sec !\n",
            "\n"
          ]
        }
      ],
      "source": [
        "!./test_cuda_nnet"
      ]
    },
    {
      "cell_type": "markdown",
      "source": [
        "### Cuda version code #2"
      ],
      "metadata": {
        "id": "rEipaljCb6aA"
      }
    },
    {
      "cell_type": "code",
      "source": [
        "%%writefile cuda_amsc_nnet.cpp\n",
        "\n",
        "#include \"irisLoader.hpp\"\n",
        "#include \"test_model.hpp\"\n",
        "#include <fstream>\n",
        "#include <sstream>\n",
        "#include <tuple>\n",
        "\n",
        "#include \"functions_utilities.hpp\"\n",
        "#include <algorithm>\n",
        "#include <random>\n",
        "#include <chrono>\n",
        "\n",
        "\n",
        "\n",
        "int main(){\n",
        "\n",
        "    //*******************************************************************************************************************************\n",
        "\n",
        "    //**************THIS PART IS RELATED IN LOADING DATA FROM IRIS DATASET .CSV******************************************************\n",
        "\n",
        "    //*******************************************************************************************************************************\n",
        "\n",
        "    using IrisTuple = std::tuple<float, float, float, float, std::tuple<int, int, int>>;\n",
        "\n",
        "    std::vector<std::vector<IrisTuple>> iris_se_data, iris_vi_data, iris_ve_data;\n",
        "    std::vector<std::vector<float>> trainSet, validationSet, testSet, trainOut, validationOut, testOut;\n",
        "    int a=2;\n",
        "\n",
        "    auto result = readIrisData<float>(\"./DataSet/Iris.csv\");\n",
        "    auto split_result = getIrisSets<float>(result, 0.6, 0.2, 0.2);\n",
        "\n",
        "    //RETRIVING .CSV DATA\n",
        "    trainSet = std::get<0>(split_result);\n",
        "    trainOut = std::get<1>(split_result);\n",
        "    validationSet = std::get<2>(split_result);\n",
        "    validationOut = std::get<3>(split_result);\n",
        "    testSet = std::get<4>(split_result);\n",
        "    testOut = std::get<5>(split_result);\n",
        "\n",
        "\n",
        "    //******************************CODE RELATED TO THE MODEL***********************************************************************\n",
        "\n",
        "\n",
        "    //CREATING MODEL\n",
        "    shuffleData(trainSet, trainOut);\n",
        "    Input input(trainSet, validationSet, testSet);\n",
        "    Output output(trainOut, validationOut, testOut, \"sigmoid\");\n",
        "    Layer layer1(\"layer1\", 128, \"ReLu\"), layer2(\"layer2\", 3000, \"ReLu\"), layer3(\"layer33\", 3000, \"ReLu\");  //128 neurons and one layer best in train set at the moment\n",
        "    Model model(\"myModel\",100, 16, 0.05, \"MSE\", input, output, \"early_stop\"); //batch around 8-16 learning rate 0.05 works well\n",
        "    model.setWeightdInitialization(\"He\");  //He best in train set at the moment, Xavier works well too, Normal is fine, Uniform do not work\n",
        "    model.setCudaBlockSize(4);\n",
        "\n",
        "    //BUILDING THE MODEL\n",
        "\n",
        "    model.addLayer(layer1);\n",
        "    //model.addLayer(layer2);\n",
        "    //model.addLayer(layer3);\n",
        "\n",
        "    model.buildModel();\n",
        "\n",
        "    //TRAINING THE MODEL\n",
        "\n",
        "    // #second cuda model\n",
        "    model.train(a,1);               //flag 1 in train() function call #2 model\n",
        "\n",
        "    return 0;\n",
        "}"
      ],
      "metadata": {
        "colab": {
          "base_uri": "https://localhost:8080/"
        },
        "id": "SvoRFrd8cEpZ",
        "outputId": "b26dac0b-55c9-450e-b7ce-bc0d03b0e23f"
      },
      "execution_count": 25,
      "outputs": [
        {
          "output_type": "stream",
          "name": "stdout",
          "text": [
            "Overwriting cuda_amsc_nnet.cpp\n"
          ]
        }
      ]
    },
    {
      "cell_type": "code",
      "execution_count": 26,
      "metadata": {
        "id": "2XIfuhYVcgIr"
      },
      "outputs": [],
      "source": [
        "!nvcc -O3 -I ../include -arch=sm_75 -c ../src/cudaMMul.cu  -o test_cuda_functions.o\n",
        "!nvcc -O3 -I ../include -arch=sm_75 -c ../src/test_cuda_network_functions.cu -o test_cuda_network_functions.o"
      ]
    },
    {
      "cell_type": "code",
      "execution_count": 27,
      "metadata": {
        "id": "u2_Q0GWtcgI5"
      },
      "outputs": [],
      "source": [
        "!g++ -c -O3 -I ../include -std=c++17 -I ../include  -march=native -ffast-math cuda_amsc_nnet.cpp  ../src/irisLoader.cpp ../src/ActivationFunctions.cpp  ../src/matrixProd_AVX.cpp -mavx2 -mfma -std=c++20"
      ]
    },
    {
      "cell_type": "code",
      "execution_count": 28,
      "metadata": {
        "id": "vkV5YR8DcgI5"
      },
      "outputs": [],
      "source": [
        "!nvcc ActivationFunctions.o test_cuda_functions.o matrixProd_AVX.o test_cuda_network_functions.o cuda_amsc_nnet.o irisLoader.o -o test_cuda_nnet"
      ]
    },
    {
      "cell_type": "code",
      "execution_count": 29,
      "metadata": {
        "colab": {
          "base_uri": "https://localhost:8080/"
        },
        "outputId": "b8d752ad-7dca-4867-a000-0f89c8be1f0b",
        "id": "aX8Xj9JJcgI5"
      },
      "outputs": [
        {
          "output_type": "stream",
          "name": "stdout",
          "text": [
            "Building model...\n",
            "Model name: myModel\n",
            "Number of epochs: 100\n",
            "Batch size: 16\n",
            "Learning rate: 0.05\n",
            "Loss function: MSE\n",
            "Stop cryteria: early_stop\n",
            "\n",
            "Input layer: \n",
            "Number of input introduced in the network: 4\n",
            "\n",
            "\n",
            "Model name: myModel\n",
            "-------------------------------------------------------------\n",
            "Layers (type)                  Output Shape         Params #\n",
            "=============================================================\n",
            "\n",
            "Input (Input Layer)\u001b[38G4\u001b[55G0\n",
            "\n",
            "layer1 (Dense)\u001b[38G128\u001b[55G640\n",
            "\n",
            "ReLu (Hidden Layer)\u001b[38G128\u001b[55G0\n",
            "\n",
            "Output (Output layer)\u001b[38G3\u001b[55G387\n",
            "\n",
            "sigmoid (Activation Function)\u001b[38G3\u001b[55G0\n",
            "\n",
            "=============================================================\n",
            "\n",
            "Total params: 1027 (4 KB)\n",
            "_____________________________________________________________\n",
            "\n",
            "Model built!\n",
            "\n",
            "Train started !  (details and results available in Train_Output.txt file)\n",
            "\n",
            "progress: 100%\n",
            "\n",
            "Total mul: 9000\n",
            "\n",
            "\n",
            "Train and evaluation on Test-Set successfully completed in 2.306 sec !\n",
            "\n"
          ]
        }
      ],
      "source": [
        "!./test_cuda_nnet"
      ]
    },
    {
      "cell_type": "code",
      "execution_count": null,
      "metadata": {
        "colab": {
          "base_uri": "https://localhost:8080/"
        },
        "id": "btebLwu19n1T",
        "outputId": "e113a185-dbb9-4ce6-c5b1-1df9ef457877"
      },
      "outputs": [
        {
          "name": "stdout",
          "output_type": "stream",
          "text": [
            "********************************NEW SET OF WEIGHTS**********************************************\n",
            "\n",
            "************* weights layer 1 ****************\n",
            "\n",
            "weigthts 4 x 5\n",
            "-0.172411 0.855796 0.50487 0.966062 -0.787803 \n",
            "-0.348239 -0.975681 -0.674123 -1.02335 0.459974 \n",
            "1.13758 -0.671584 -1.13152 -0.473169 0.60252 \n",
            "0.0143133 -0.658744 0.474282 0.0805647 0.2821 \n",
            "\n",
            "bias layer 1 size: 5\n",
            "-0.172411 0.855796 0.50487 0.966062 -0.787803 \n",
            "\n",
            "z input layer 1 size: 5\n",
            "0 0 0 0 0 \n",
            "\n",
            "h output layer 1 size: 5\n",
            "0 0 0 0 0 \n",
            "\n",
            "dE_dx layer 1 size: 5\n",
            "0 0 0 0 0 \n",
            "\n",
            "dE_db layer 1 size: 5\n",
            "0 0 0 0 0 \n",
            "\n",
            "dE_dw layer 1 size: 4 x 5\n",
            "0 0 0 0 0 \n",
            "0 0 0 0 0 \n",
            "0 0 0 0 0 \n",
            "0 0 0 0 0 \n",
            "\n",
            "************* weights layer 2 ****************\n",
            "\n",
            "weigthts 5 x 3\n",
            "0.889534 -0.129216 0.705581 \n",
            "-1.56428 -0.37402 -0.327126 \n",
            "-0.0860741 0.381005 0.020714 \n",
            "0.655904 -0.232059 0.0740191 \n",
            "-0.0845426 -0.937647 0.201616 \n",
            "\n",
            "bias layer 2 size: 3\n",
            "-0.311475 -0.872676 -0.602954 \n",
            "\n",
            "z input layer 2 size: 3\n",
            "0 0 0 \n",
            "\n",
            "dE_db layer 2 size: 3\n",
            "0 0 0 \n",
            "\n",
            "dE_dw layer 2 size: 5 x 3\n",
            "0 0 0 \n",
            "0 0 0 \n",
            "0 0 0 \n",
            "0 0 0 \n",
            "0 0 0 \n",
            "\n",
            "y output layer 2 size: 3\n",
            "0 0 0 \n",
            "********************************NEW SET OF WEIGHTS**********************************************\n",
            "\n",
            "************* weights layer 1 ****************\n",
            "\n",
            "weigthts 4 x 5\n",
            "-0.172411 0.855796 0.50487 0.966062 -0.787803 \n",
            "-0.348239 -0.975681 -0.674123 -1.02335 0.459974 \n",
            "1.13758 -0.671584 -1.13152 -0.473169 0.60252 \n",
            "0.0143133 -0.658744 0.474282 0.0805647 0.2821 \n",
            "\n",
            "bias layer 1 size: 5\n",
            "-0.172411 0.855796 0.50487 0.966062 -0.787803 \n",
            "\n",
            "z input layer 1 size: 5\n",
            "0.505112 0.623186 -0.0784627 1.17237 -0.817642 \n",
            "\n",
            "h output layer 1 size: 5\n",
            "0.505112 0.623186 0 1.17237 0 \n",
            "\n",
            "dE_dx layer 1 size: 5\n",
            "0.17069 -0.0791364 0.005011 0.0179063 0.0487738 \n",
            "\n",
            "dE_db layer 1 size: 5\n",
            "0.17069 -0.0791364 0 0.0179063 0 \n",
            "\n",
            "dE_dw layer 1 size: 4 x 5\n",
            "0.166313 -0.0771073 0 0.0174471 0 \n",
            "0.059085 -0.0273934 0 0.00619833 0 \n",
            "0.14443 -0.0669616 0 0.0151515 0 \n",
            "0.0415784 -0.0192768 0 0.00436179 0 \n",
            "\n",
            "************* weights layer 2 ****************\n",
            "\n",
            "weigthts 5 x 3\n",
            "0.889534 -0.129216 0.705581 \n",
            "-1.56428 -0.37402 -0.327126 \n",
            "-0.0860741 0.381005 0.020714 \n",
            "0.655904 -0.232059 0.0740191 \n",
            "-0.0845426 -0.937647 0.201616 \n",
            "\n",
            "bias layer 2 size: 3\n",
            "-0.311475 -0.872676 -0.602954 \n",
            "\n",
            "z input layer 2 size: 3\n",
            "-0.0680381 -1.44309 -0.363639 \n",
            "\n",
            "dE_db layer 2 size: 3\n",
            "0 0 0.241914 \n",
            "\n",
            "dE_dw layer 2 size: 5 x 3\n",
            "0 0 0.122194 \n",
            "0 0 0.150758 \n",
            "0 0 0 \n",
            "0 0 0.283613 \n",
            "0 0 0 \n",
            "\n",
            "y output layer 2 size: 3\n",
            "0.482997 0.191068 0.410079 \n"
          ]
        }
      ],
      "source": [
        "!cat weights.txt\n"
      ]
    }
  ],
  "metadata": {
    "accelerator": "GPU",
    "colab": {
      "gpuType": "T4",
      "provenance": []
    },
    "kernelspec": {
      "display_name": "Python 3",
      "name": "python3"
    },
    "language_info": {
      "name": "python"
    }
  },
  "nbformat": 4,
  "nbformat_minor": 0
}